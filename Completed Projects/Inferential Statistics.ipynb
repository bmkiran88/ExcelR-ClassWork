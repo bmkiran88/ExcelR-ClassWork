{
 "cells": [
  {
   "cell_type": "code",
   "execution_count": 2,
   "id": "5e53ab16",
   "metadata": {},
   "outputs": [
    {
     "data": {
      "text/plain": [
       "1.977177724476122"
      ]
     },
     "execution_count": 2,
     "metadata": {},
     "output_type": "execute_result"
    }
   ],
   "source": [
    "from scipy import stats\n",
    "stats.t.ppf(0.975,df=139)"
   ]
  },
  {
   "cell_type": "code",
   "execution_count": 4,
   "id": "16f8109c",
   "metadata": {},
   "outputs": [
    {
     "data": {
      "text/plain": [
       "1.561477505099667"
      ]
     },
     "execution_count": 4,
     "metadata": {},
     "output_type": "execute_result"
    }
   ],
   "source": [
    "stats.t.ppf(0.94,df=199)"
   ]
  },
  {
   "cell_type": "code",
   "execution_count": null,
   "id": "0220bb64",
   "metadata": {},
   "outputs": [],
   "source": []
  }
 ],
 "metadata": {
  "kernelspec": {
   "display_name": "Python 3",
   "language": "python",
   "name": "python3"
  },
  "language_info": {
   "codemirror_mode": {
    "name": "ipython",
    "version": 3
   },
   "file_extension": ".py",
   "mimetype": "text/x-python",
   "name": "python",
   "nbconvert_exporter": "python",
   "pygments_lexer": "ipython3",
   "version": "3.8.8"
  }
 },
 "nbformat": 4,
 "nbformat_minor": 5
}
