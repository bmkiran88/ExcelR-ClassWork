{
 "cells": [
  {
   "cell_type": "markdown",
   "id": "b5f0a619",
   "metadata": {},
   "source": [
    "# Python Data Structures\n",
    "\n",
    "There are 4 Python Data Structures\n",
    "-*Lists\n",
    "-*Sets\n",
    "-*Tuple\n",
    "-*Dictionary"
   ]
  },
  {
   "cell_type": "markdown",
   "id": "02b611ae",
   "metadata": {},
   "source": [
    "### List"
   ]
  },
  {
   "cell_type": "code",
   "execution_count": 8,
   "id": "82097f94",
   "metadata": {},
   "outputs": [],
   "source": [
    "#List is heterogenous data structure\n",
    "#the Data is only in rows therefore it is one dimensional data dtructure\n",
    "#allows duplicate entries\n",
    "#Mutable-Entries are changeable in anytime\n",
    "#Slicable because List is indexable"
   ]
  },
  {
   "cell_type": "code",
   "execution_count": 1,
   "id": "8abaeb05",
   "metadata": {},
   "outputs": [],
   "source": [
    "score=[] #empty list"
   ]
  },
  {
   "cell_type": "code",
   "execution_count": 2,
   "id": "954fa0c9",
   "metadata": {},
   "outputs": [
    {
     "data": {
      "text/plain": [
       "list"
      ]
     },
     "execution_count": 2,
     "metadata": {},
     "output_type": "execute_result"
    }
   ],
   "source": [
    "type(score)"
   ]
  },
  {
   "cell_type": "code",
   "execution_count": 4,
   "id": "afd39a80",
   "metadata": {},
   "outputs": [
    {
     "data": {
      "text/plain": [
       "[450, 350, 350, 500]"
      ]
     },
     "execution_count": 4,
     "metadata": {},
     "output_type": "execute_result"
    }
   ],
   "source": [
    "score=[450,350,350,500]#homogenous values=same data type\n",
    "score"
   ]
  },
  {
   "cell_type": "code",
   "execution_count": 13,
   "id": "1f9604e7",
   "metadata": {},
   "outputs": [
    {
     "data": {
      "text/plain": [
       "['Aditi', 123, 'go', 12.45, 123, 'Aditi', 123]"
      ]
     },
     "execution_count": 13,
     "metadata": {},
     "output_type": "execute_result"
    }
   ],
   "source": [
    "names=['Aditi',123,'go',12.45,123,'Aditi',123] #Heterogenous Values=Mixed data Type\n",
    "names"
   ]
  },
  {
   "cell_type": "code",
   "execution_count": 14,
   "id": "fd3c774e",
   "metadata": {},
   "outputs": [],
   "source": [
    "names[0]='Ashwathy' #Mutable"
   ]
  },
  {
   "cell_type": "code",
   "execution_count": 15,
   "id": "659565fd",
   "metadata": {},
   "outputs": [
    {
     "data": {
      "text/plain": [
       "['Ashwathy', 123, 'go', 12.45, 123, 'Aditi', 123]"
      ]
     },
     "execution_count": 15,
     "metadata": {},
     "output_type": "execute_result"
    }
   ],
   "source": [
    "names"
   ]
  },
  {
   "cell_type": "code",
   "execution_count": 16,
   "id": "0119cd00",
   "metadata": {},
   "outputs": [
    {
     "data": {
      "text/plain": [
       "['go', 12.45, 123, 'Aditi', 123]"
      ]
     },
     "execution_count": 16,
     "metadata": {},
     "output_type": "execute_result"
    }
   ],
   "source": [
    "names[2:] #Slicable"
   ]
  },
  {
   "cell_type": "code",
   "execution_count": 18,
   "id": "0b98c964",
   "metadata": {},
   "outputs": [
    {
     "data": {
      "text/plain": [
       "[12.45, 123, 'Aditi']"
      ]
     },
     "execution_count": 18,
     "metadata": {},
     "output_type": "execute_result"
    }
   ],
   "source": [
    "names[3:6]"
   ]
  },
  {
   "cell_type": "code",
   "execution_count": 20,
   "id": "43438cc4",
   "metadata": {},
   "outputs": [
    {
     "data": {
      "text/plain": [
       "['Ashwathy', 123, 'go', 12.45, 123, 'Aditi']"
      ]
     },
     "execution_count": 20,
     "metadata": {},
     "output_type": "execute_result"
    }
   ],
   "source": [
    "#names[0:6] #Positive indexing\n",
    "names[:-1] #Negative Indexing"
   ]
  },
  {
   "cell_type": "code",
   "execution_count": 21,
   "id": "c3f8855c",
   "metadata": {},
   "outputs": [
    {
     "data": {
      "text/plain": [
       "[123, 'Aditi', 123]"
      ]
     },
     "execution_count": 21,
     "metadata": {},
     "output_type": "execute_result"
    }
   ],
   "source": [
    "names[-3:]"
   ]
  },
  {
   "cell_type": "code",
   "execution_count": 22,
   "id": "85ac2e0c",
   "metadata": {},
   "outputs": [
    {
     "data": {
      "text/plain": [
       "['go', 12.45, 123]"
      ]
     },
     "execution_count": 22,
     "metadata": {},
     "output_type": "execute_result"
    }
   ],
   "source": [
    "names[-5:-2]"
   ]
  },
  {
   "cell_type": "code",
   "execution_count": 23,
   "id": "436682e9",
   "metadata": {},
   "outputs": [
    {
     "data": {
      "text/plain": [
       "7"
      ]
     },
     "execution_count": 23,
     "metadata": {},
     "output_type": "execute_result"
    }
   ],
   "source": [
    "len(names)"
   ]
  },
  {
   "cell_type": "code",
   "execution_count": 24,
   "id": "e9cd18d5",
   "metadata": {},
   "outputs": [
    {
     "data": {
      "text/plain": [
       "['Ashwathy', 123, 'go', 12.45, 123, 'Aditi', 123, 'Manju']"
      ]
     },
     "execution_count": 24,
     "metadata": {},
     "output_type": "execute_result"
    }
   ],
   "source": [
    "names.append(\"Manju\")\n",
    "names"
   ]
  },
  {
   "cell_type": "markdown",
   "id": "b2307040",
   "metadata": {},
   "source": [
    "##  2 Sets"
   ]
  },
  {
   "cell_type": "code",
   "execution_count": 25,
   "id": "2fbb5b8d",
   "metadata": {},
   "outputs": [],
   "source": [
    "#One Dimensional\n",
    "#Heterogenous\n",
    "#Never allows duplicates\n",
    "#not indexable, therefor not slicable"
   ]
  },
  {
   "cell_type": "code",
   "execution_count": 26,
   "id": "eaa20488",
   "metadata": {},
   "outputs": [
    {
     "data": {
      "text/plain": [
       "set"
      ]
     },
     "execution_count": 26,
     "metadata": {},
     "output_type": "execute_result"
    }
   ],
   "source": [
    "empty_set = set() #empty set\n",
    "type(empty_set)"
   ]
  },
  {
   "cell_type": "code",
   "execution_count": 27,
   "id": "34b4fb82",
   "metadata": {},
   "outputs": [
    {
     "data": {
      "text/plain": [
       "{12, 24, 56, 67}"
      ]
     },
     "execution_count": 27,
     "metadata": {},
     "output_type": "execute_result"
    }
   ],
   "source": [
    "temp={12,24,56,67}\n",
    "temp"
   ]
  },
  {
   "cell_type": "code",
   "execution_count": 28,
   "id": "ff9f644a",
   "metadata": {},
   "outputs": [
    {
     "data": {
      "text/plain": [
       "set"
      ]
     },
     "execution_count": 28,
     "metadata": {},
     "output_type": "execute_result"
    }
   ],
   "source": [
    "type(temp)"
   ]
  },
  {
   "cell_type": "code",
   "execution_count": 29,
   "id": "85bba248",
   "metadata": {},
   "outputs": [
    {
     "data": {
      "text/plain": [
       "{12, 14.6, 34, 56, 67, 'Shabana'}"
      ]
     },
     "execution_count": 29,
     "metadata": {},
     "output_type": "execute_result"
    }
   ],
   "source": [
    "temp={12,34,67,12,12,34,67,56,34,\"Shabana\",14.6}\n",
    "temp"
   ]
  },
  {
   "cell_type": "code",
   "execution_count": 30,
   "id": "f3169c57",
   "metadata": {},
   "outputs": [
    {
     "ename": "TypeError",
     "evalue": "'set' object is not subscriptable",
     "output_type": "error",
     "traceback": [
      "\u001b[1;31m---------------------------------------------------------------------------\u001b[0m",
      "\u001b[1;31mTypeError\u001b[0m                                 Traceback (most recent call last)",
      "\u001b[1;32m<ipython-input-30-a506cca6e22c>\u001b[0m in \u001b[0;36m<module>\u001b[1;34m\u001b[0m\n\u001b[1;32m----> 1\u001b[1;33m \u001b[0mtemp\u001b[0m\u001b[1;33m[\u001b[0m\u001b[1;36m0\u001b[0m\u001b[1;33m]\u001b[0m\u001b[1;33m\u001b[0m\u001b[1;33m\u001b[0m\u001b[0m\n\u001b[0m",
      "\u001b[1;31mTypeError\u001b[0m: 'set' object is not subscriptable"
     ]
    }
   ],
   "source": [
    "temp[0]"
   ]
  },
  {
   "cell_type": "code",
   "execution_count": 32,
   "id": "81c23cf8",
   "metadata": {},
   "outputs": [
    {
     "data": {
      "text/plain": [
       "{12, 14.6, 34, 56, 67, 'Shabana', 'manju'}"
      ]
     },
     "execution_count": 32,
     "metadata": {},
     "output_type": "execute_result"
    }
   ],
   "source": [
    "temp.add(\"manju\")\n",
    "temp"
   ]
  },
  {
   "cell_type": "markdown",
   "id": "df27ba6b",
   "metadata": {},
   "source": [
    "## 3. Tuple"
   ]
  },
  {
   "cell_type": "code",
   "execution_count": 33,
   "id": "db0c8ad0",
   "metadata": {},
   "outputs": [],
   "source": [
    "#1D datastructure\n",
    "#Heterogenous Data structure\n",
    "#allows Duplicate elements\n",
    "#slicable because tuple is indexable\n",
    "#NOT Mutable-Once a value is assigned cannot be changed"
   ]
  },
  {
   "cell_type": "code",
   "execution_count": 35,
   "id": "e314e265",
   "metadata": {},
   "outputs": [
    {
     "data": {
      "text/plain": [
       "tuple"
      ]
     },
     "execution_count": 35,
     "metadata": {},
     "output_type": "execute_result"
    }
   ],
   "source": [
    "empty_tuple=()\n",
    "type(empty_tuple)"
   ]
  },
  {
   "cell_type": "code",
   "execution_count": 39,
   "id": "456d85cb",
   "metadata": {},
   "outputs": [],
   "source": [
    "time=(12,1,3,4,4,5,6,8,\"Kumar\",120.4)"
   ]
  },
  {
   "cell_type": "code",
   "execution_count": 40,
   "id": "55e17923",
   "metadata": {},
   "outputs": [
    {
     "data": {
      "text/plain": [
       "(12, 1, 3, 4, 4, 5, 6, 8, 'Kumar', 120.4)"
      ]
     },
     "execution_count": 40,
     "metadata": {},
     "output_type": "execute_result"
    }
   ],
   "source": [
    "time"
   ]
  },
  {
   "cell_type": "code",
   "execution_count": 41,
   "id": "8bf0c487",
   "metadata": {},
   "outputs": [
    {
     "data": {
      "text/plain": [
       "12"
      ]
     },
     "execution_count": 41,
     "metadata": {},
     "output_type": "execute_result"
    }
   ],
   "source": [
    "time[0]"
   ]
  },
  {
   "cell_type": "code",
   "execution_count": 42,
   "id": "e83c16e0",
   "metadata": {},
   "outputs": [
    {
     "data": {
      "text/plain": [
       "(1, 3, 4, 4)"
      ]
     },
     "execution_count": 42,
     "metadata": {},
     "output_type": "execute_result"
    }
   ],
   "source": [
    "time[1:5]"
   ]
  },
  {
   "cell_type": "markdown",
   "id": "ca439ec7",
   "metadata": {},
   "source": [
    "## 4. Dictionary(dict)-Key:Value Pair"
   ]
  },
  {
   "cell_type": "code",
   "execution_count": null,
   "id": "672aa8a2",
   "metadata": {},
   "outputs": [],
   "source": [
    "#2d Datastructure\n",
    "# can contain duplicate keys but nor duplicate values"
   ]
  },
  {
   "cell_type": "code",
   "execution_count": null,
   "id": "98bdbe38",
   "metadata": {},
   "outputs": [],
   "source": [
    "empty_dict={}\n",
    "type(empty_dict)"
   ]
  },
  {
   "cell_type": "code",
   "execution_count": 15,
   "id": "40a9d8f6",
   "metadata": {},
   "outputs": [
    {
     "data": {
      "text/plain": [
       "{'tomato': 5, 'oats': 1, 'Almond': 0.5, 'Black Raisin': 0.5}"
      ]
     },
     "execution_count": 15,
     "metadata": {},
     "output_type": "execute_result"
    }
   ],
   "source": [
    "shopping_cart={\"tomato\":5,\n",
    "              \"oats\":1,\n",
    "              \"Almond\":0.5,\n",
    "              \"Black Raisin\":0.5}\n",
    "shopping_cart"
   ]
  },
  {
   "cell_type": "code",
   "execution_count": 10,
   "id": "e1096cbc",
   "metadata": {},
   "outputs": [],
   "source": [
    "learner_info={1:\"swapnil\",2:\"aswathy\",3:\"aswathy\"}"
   ]
  },
  {
   "cell_type": "code",
   "execution_count": 11,
   "id": "cbe9626a",
   "metadata": {},
   "outputs": [
    {
     "data": {
      "text/plain": [
       "{1: 'swapnil', 2: 'aswathy', 3: 'aswathy'}"
      ]
     },
     "execution_count": 11,
     "metadata": {},
     "output_type": "execute_result"
    }
   ],
   "source": [
    "learner_info"
   ]
  },
  {
   "cell_type": "code",
   "execution_count": 9,
   "id": "358cac5e",
   "metadata": {},
   "outputs": [
    {
     "data": {
      "text/plain": [
       "{1: 'aswathy', 2: 'aswathy'}"
      ]
     },
     "execution_count": 9,
     "metadata": {},
     "output_type": "execute_result"
    }
   ],
   "source": [
    "learner_info={1:\"swapnil\",2:\"aswathy\",1:\"aswathy\"} #this is wrong\n",
    "learner_info"
   ]
  },
  {
   "cell_type": "code",
   "execution_count": 12,
   "id": "ab7a1e20",
   "metadata": {},
   "outputs": [],
   "source": [
    "learner_info.clear()"
   ]
  },
  {
   "cell_type": "code",
   "execution_count": 13,
   "id": "5663c0c2",
   "metadata": {},
   "outputs": [
    {
     "data": {
      "text/plain": [
       "{}"
      ]
     },
     "execution_count": 13,
     "metadata": {},
     "output_type": "execute_result"
    }
   ],
   "source": [
    "learner_info"
   ]
  },
  {
   "cell_type": "code",
   "execution_count": 16,
   "id": "fb8df266",
   "metadata": {},
   "outputs": [
    {
     "data": {
      "text/plain": [
       "dict_values([5, 1, 0.5, 0.5])"
      ]
     },
     "execution_count": 16,
     "metadata": {},
     "output_type": "execute_result"
    }
   ],
   "source": [
    "shopping_cart.values()"
   ]
  },
  {
   "cell_type": "code",
   "execution_count": 19,
   "id": "451dcdb1",
   "metadata": {},
   "outputs": [],
   "source": [
    "participant_details={\"names\":['Aditi','Snehal','Karunasagar','Nandhini'],\n",
    "                    \"age\":[23,38,24,23],\n",
    "                    \"interest\":['volleyball','cricket','cricket','badminton']}"
   ]
  },
  {
   "cell_type": "code",
   "execution_count": 21,
   "id": "0a98765c",
   "metadata": {},
   "outputs": [
    {
     "data": {
      "text/plain": [
       "{'names': ['Aditi', 'Snehal', 'Karunasagar', 'Nandhini'],\n",
       " 'age': [23, 38, 24, 23],\n",
       " 'interest': ['volleyball', 'cricket', 'cricket', 'badminton']}"
      ]
     },
     "execution_count": 21,
     "metadata": {},
     "output_type": "execute_result"
    }
   ],
   "source": [
    "participant_details"
   ]
  },
  {
   "cell_type": "code",
   "execution_count": 22,
   "id": "9a295b81",
   "metadata": {},
   "outputs": [
    {
     "data": {
      "text/html": [
       "<div>\n",
       "<style scoped>\n",
       "    .dataframe tbody tr th:only-of-type {\n",
       "        vertical-align: middle;\n",
       "    }\n",
       "\n",
       "    .dataframe tbody tr th {\n",
       "        vertical-align: top;\n",
       "    }\n",
       "\n",
       "    .dataframe thead th {\n",
       "        text-align: right;\n",
       "    }\n",
       "</style>\n",
       "<table border=\"1\" class=\"dataframe\">\n",
       "  <thead>\n",
       "    <tr style=\"text-align: right;\">\n",
       "      <th></th>\n",
       "      <th>names</th>\n",
       "      <th>age</th>\n",
       "      <th>interest</th>\n",
       "    </tr>\n",
       "  </thead>\n",
       "  <tbody>\n",
       "    <tr>\n",
       "      <th>0</th>\n",
       "      <td>Aditi</td>\n",
       "      <td>23</td>\n",
       "      <td>volleyball</td>\n",
       "    </tr>\n",
       "    <tr>\n",
       "      <th>1</th>\n",
       "      <td>Snehal</td>\n",
       "      <td>38</td>\n",
       "      <td>cricket</td>\n",
       "    </tr>\n",
       "    <tr>\n",
       "      <th>2</th>\n",
       "      <td>Karunasagar</td>\n",
       "      <td>24</td>\n",
       "      <td>cricket</td>\n",
       "    </tr>\n",
       "    <tr>\n",
       "      <th>3</th>\n",
       "      <td>Nandhini</td>\n",
       "      <td>23</td>\n",
       "      <td>badminton</td>\n",
       "    </tr>\n",
       "  </tbody>\n",
       "</table>\n",
       "</div>"
      ],
      "text/plain": [
       "         names  age    interest\n",
       "0        Aditi   23  volleyball\n",
       "1       Snehal   38     cricket\n",
       "2  Karunasagar   24     cricket\n",
       "3     Nandhini   23   badminton"
      ]
     },
     "execution_count": 22,
     "metadata": {},
     "output_type": "execute_result"
    }
   ],
   "source": [
    "import pandas as pd\n",
    "pd.DataFrame(participant_details)"
   ]
  },
  {
   "cell_type": "code",
   "execution_count": 30,
   "id": "2b9e128f",
   "metadata": {},
   "outputs": [],
   "source": [
    "scores=[]"
   ]
  },
  {
   "cell_type": "code",
   "execution_count": 31,
   "id": "25b9cf07",
   "metadata": {},
   "outputs": [
    {
     "name": "stdout",
     "output_type": "stream",
     "text": [
      "1\n",
      "2\n",
      "3\n",
      "4\n",
      "5\n",
      "6\n",
      "7\n",
      "8\n",
      "9\n",
      "10\n"
     ]
    }
   ],
   "source": [
    "for i in range(1,11):\n",
    "    scores.append(i)\n",
    "    print(i)"
   ]
  },
  {
   "cell_type": "code",
   "execution_count": 32,
   "id": "df876830",
   "metadata": {},
   "outputs": [
    {
     "data": {
      "text/plain": [
       "[1, 2, 3, 4, 5, 6, 7, 8, 9, 10]"
      ]
     },
     "execution_count": 32,
     "metadata": {},
     "output_type": "execute_result"
    }
   ],
   "source": [
    "scores"
   ]
  },
  {
   "cell_type": "code",
   "execution_count": null,
   "id": "4b05732d",
   "metadata": {},
   "outputs": [],
   "source": [
    "#list when you want to change something in it\n",
    "#Sets when you dont want repeatition\n",
    "#tuples if you do not want to change somethiing\n",
    "#dictionary receive values in 2d format"
   ]
  }
 ],
 "metadata": {
  "kernelspec": {
   "display_name": "Python 3",
   "language": "python",
   "name": "python3"
  },
  "language_info": {
   "codemirror_mode": {
    "name": "ipython",
    "version": 3
   },
   "file_extension": ".py",
   "mimetype": "text/x-python",
   "name": "python",
   "nbconvert_exporter": "python",
   "pygments_lexer": "ipython3",
   "version": "3.8.8"
  }
 },
 "nbformat": 4,
 "nbformat_minor": 5
}
