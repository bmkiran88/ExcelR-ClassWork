{
 "cells": [
  {
   "cell_type": "markdown",
   "id": "fe360465",
   "metadata": {},
   "source": [
    "# Chapter-1 Introduction to Python"
   ]
  },
  {
   "cell_type": "markdown",
   "id": "a2e63ba3",
   "metadata": {},
   "source": [
    "## 1[a] Hello World"
   ]
  },
  {
   "cell_type": "code",
   "execution_count": 1,
   "id": "7e320c08",
   "metadata": {},
   "outputs": [
    {
     "name": "stdout",
     "output_type": "stream",
     "text": [
      "Welcome All!!!\n"
     ]
    }
   ],
   "source": [
    "print('Welcome All!!!')"
   ]
  },
  {
   "cell_type": "code",
   "execution_count": 11,
   "id": "63d311a4",
   "metadata": {},
   "outputs": [
    {
     "name": "stdout",
     "output_type": "stream",
     "text": [
      "HI\n"
     ]
    }
   ],
   "source": [
    "print(\"HI\")"
   ]
  },
  {
   "cell_type": "code",
   "execution_count": 12,
   "id": "91ef3b6c",
   "metadata": {},
   "outputs": [
    {
     "name": "stdout",
     "output_type": "stream",
     "text": [
      "Hi Everybody\n"
     ]
    }
   ],
   "source": [
    "print(\"\"\"Hi Everybody\"\"\")"
   ]
  },
  {
   "cell_type": "code",
   "execution_count": 13,
   "id": "4cc55f22",
   "metadata": {},
   "outputs": [
    {
     "name": "stdout",
     "output_type": "stream",
     "text": [
      "Use double or triple quotes always as apostrophese like ' should not create problem\n"
     ]
    }
   ],
   "source": [
    "print(\"Use double or triple quotes always as apostrophese like ' should not create problem\")"
   ]
  },
  {
   "cell_type": "markdown",
   "id": "3f11b0ec",
   "metadata": {},
   "source": [
    "### 1[b] Create a Variable"
   ]
  },
  {
   "cell_type": "code",
   "execution_count": 14,
   "id": "a3cad92b",
   "metadata": {},
   "outputs": [],
   "source": [
    "numbers=[\"Aditi\",\"Ashwathy\",\"Sneha\",123,456]"
   ]
  },
  {
   "cell_type": "code",
   "execution_count": 20,
   "id": "d68311eb",
   "metadata": {},
   "outputs": [
    {
     "name": "stdout",
     "output_type": "stream",
     "text": [
      "['Aditi', 'Ashwathy', 'Sneha', 123, 456]\n"
     ]
    }
   ],
   "source": [
    "print(numbers)"
   ]
  },
  {
   "cell_type": "markdown",
   "id": "aac2e9ef",
   "metadata": {},
   "source": [
    "#Dont make a variable name with keyword\n",
    "len_=34 instead of len\n",
    "print(sum)"
   ]
  },
  {
   "cell_type": "markdown",
   "id": "f9821d0b",
   "metadata": {},
   "source": [
    "# Chapter 2 - Strings and String Methods"
   ]
  },
  {
   "cell_type": "markdown",
   "id": "c08368dd",
   "metadata": {},
   "source": [
    "## 2[b] What is a String?"
   ]
  },
  {
   "cell_type": "code",
   "execution_count": 84,
   "id": "24068e63",
   "metadata": {},
   "outputs": [
    {
     "data": {
      "text/plain": [
       "'Manan'"
      ]
     },
     "execution_count": 84,
     "metadata": {},
     "output_type": "execute_result"
    }
   ],
   "source": [
    "#Anything which is enclosed in quotes.\n",
    "Learner_names=\"Manan\"\n",
    "Learner_names"
   ]
  },
  {
   "cell_type": "code",
   "execution_count": 22,
   "id": "15d0f0d0",
   "metadata": {},
   "outputs": [
    {
     "data": {
      "text/plain": [
       "str"
      ]
     },
     "execution_count": 22,
     "metadata": {},
     "output_type": "execute_result"
    }
   ],
   "source": [
    "type(Learner_names)"
   ]
  },
  {
   "cell_type": "code",
   "execution_count": 27,
   "id": "3e178d34",
   "metadata": {},
   "outputs": [
    {
     "name": "stdout",
     "output_type": "stream",
     "text": [
      "394\n",
      "<class 'int'>\n"
     ]
    }
   ],
   "source": [
    "target_score=394\n",
    "print(target_score)\n",
    "print(type(target_score))\n",
    "#to execute both the abve lines"
   ]
  },
  {
   "cell_type": "code",
   "execution_count": 30,
   "id": "e5e44738",
   "metadata": {},
   "outputs": [
    {
     "data": {
      "text/plain": [
       "float"
      ]
     },
     "execution_count": 30,
     "metadata": {},
     "output_type": "execute_result"
    }
   ],
   "source": [
    "batting_avg=139.34\n",
    "type(batting_avg)\n",
    "#hit tab after typing 3 letters to get the variable name without typing fully"
   ]
  },
  {
   "cell_type": "markdown",
   "id": "ed48935c",
   "metadata": {},
   "source": [
    "## 2[c] Concatenation and Indexing and Slicing"
   ]
  },
  {
   "cell_type": "code",
   "execution_count": 49,
   "id": "a572e3cf",
   "metadata": {},
   "outputs": [
    {
     "name": "stdout",
     "output_type": "stream",
     "text": [
      "Manju Kiran\n",
      "Kiran\n",
      "Manju Kiran is my new learner data science 11am batch.\n"
     ]
    }
   ],
   "source": [
    "fname=\"Manju\"\n",
    "lname=\"Kiran\"\n",
    "batch=\"data science 11am batch\"\n",
    "print(fname,lname) # Combining fname and lname together\n",
    "print(lname)\n",
    "print(fname+\" \"+lname+\" is my new learner\"+\" \"+batch+\".\")# concatenating is addinf some information\n"
   ]
  },
  {
   "cell_type": "code",
   "execution_count": 50,
   "id": "fa80093b",
   "metadata": {},
   "outputs": [
    {
     "data": {
      "text/plain": [
       "14"
      ]
     },
     "execution_count": 50,
     "metadata": {},
     "output_type": "execute_result"
    }
   ],
   "source": [
    "name=\"Naresh Chandra\"\n",
    "len(name)#to know total length of the name"
   ]
  },
  {
   "cell_type": "code",
   "execution_count": 51,
   "id": "41f8971c",
   "metadata": {},
   "outputs": [
    {
     "data": {
      "text/plain": [
       "'Chandra'"
      ]
     },
     "execution_count": 51,
     "metadata": {},
     "output_type": "execute_result"
    }
   ],
   "source": [
    "#index no. in python always stats from zero\n",
    "name[7:] #slicing"
   ]
  },
  {
   "cell_type": "code",
   "execution_count": 54,
   "id": "55b1ffc0",
   "metadata": {},
   "outputs": [
    {
     "data": {
      "text/plain": [
       "'Chand'"
      ]
     },
     "execution_count": 54,
     "metadata": {},
     "output_type": "execute_result"
    }
   ],
   "source": [
    "name[7:12] #last number is l+1 because indexing sarts form 0"
   ]
  },
  {
   "cell_type": "markdown",
   "id": "0856a990",
   "metadata": {},
   "source": [
    "## 2[c] Manipulate Strings with methods"
   ]
  },
  {
   "cell_type": "code",
   "execution_count": 2,
   "id": "74b80664",
   "metadata": {},
   "outputs": [
    {
     "ename": "SyntaxError",
     "evalue": "invalid syntax (<ipython-input-2-76e173b92777>, line 1)",
     "output_type": "error",
     "traceback": [
      "\u001b[1;36m  File \u001b[1;32m\"<ipython-input-2-76e173b92777>\"\u001b[1;36m, line \u001b[1;32m1\u001b[0m\n\u001b[1;33m    * Methods/Functions - both are same. Methods are something which ends with ()\u001b[0m\n\u001b[1;37m                               ^\u001b[0m\n\u001b[1;31mSyntaxError\u001b[0m\u001b[1;31m:\u001b[0m invalid syntax\n"
     ]
    }
   ],
   "source": [
    "* Methods/Functions - both are same. Methods are something which ends with ()"
   ]
  },
  {
   "cell_type": "code",
   "execution_count": 3,
   "id": "7da20fcb",
   "metadata": {},
   "outputs": [],
   "source": [
    "learner_1=\"darshan\"\n",
    "learner_2=\"chandramohan\"\n",
    "learner_3=\"WASIM\""
   ]
  },
  {
   "cell_type": "code",
   "execution_count": 4,
   "id": "cde219c3",
   "metadata": {},
   "outputs": [
    {
     "name": "stdout",
     "output_type": "stream",
     "text": [
      "darshan\n",
      "chandramohan\n",
      "WASIM\n"
     ]
    }
   ],
   "source": [
    "print(learner_1)\n",
    "print(learner_2)\n",
    "print(learner_3)"
   ]
  },
  {
   "cell_type": "code",
   "execution_count": 5,
   "id": "969590ae",
   "metadata": {},
   "outputs": [
    {
     "data": {
      "text/plain": [
       "'DARSHAN'"
      ]
     },
     "execution_count": 5,
     "metadata": {},
     "output_type": "execute_result"
    }
   ],
   "source": [
    "str.upper(learner_1) #str is a method to know available str function hit tab after str."
   ]
  },
  {
   "cell_type": "code",
   "execution_count": 6,
   "id": "239c4792",
   "metadata": {},
   "outputs": [
    {
     "name": "stdout",
     "output_type": "stream",
     "text": [
      "DARSHAN\n",
      "Chandramohan\n",
      "wasim\n"
     ]
    }
   ],
   "source": [
    "print(learner_1.upper())\n",
    "print(learner_2.capitalize())\n",
    "print(learner_3.lower())"
   ]
  },
  {
   "cell_type": "markdown",
   "id": "ea1c85f3",
   "metadata": {},
   "source": [
    "## 2[d] - Interact with user input"
   ]
  },
  {
   "cell_type": "code",
   "execution_count": 7,
   "id": "37796d02",
   "metadata": {},
   "outputs": [
    {
     "name": "stdout",
     "output_type": "stream",
     "text": [
      "Username:Hrithik Yadav\n",
      "13\n"
     ]
    }
   ],
   "source": [
    "name=input(\"Username:\")\n",
    "print(len(name))"
   ]
  },
  {
   "cell_type": "code",
   "execution_count": 12,
   "id": "ad255d8e",
   "metadata": {},
   "outputs": [
    {
     "name": "stdout",
     "output_type": "stream",
     "text": [
      "Input Name:MANJU\n",
      "MANJU\n",
      "manju\n",
      "manju\n"
     ]
    }
   ],
   "source": [
    "#Get Name from the user and lower case it\n",
    "name=input(\"Input Name:\")\n",
    "print(name)\n",
    "print(name.lower())\n",
    "print(name.casefold())"
   ]
  },
  {
   "cell_type": "markdown",
   "id": "4f137dab",
   "metadata": {},
   "source": [
    "## 2[e] - Get and print the First Letter of Username\n"
   ]
  },
  {
   "cell_type": "code",
   "execution_count": 16,
   "id": "5c4e45bf",
   "metadata": {},
   "outputs": [
    {
     "name": "stdout",
     "output_type": "stream",
     "text": [
      "Name:Manju\n",
      "The First Letter of the name is : m\n"
     ]
    }
   ],
   "source": [
    "username=input(\"Name:\")\n",
    "print(\"The First Letter of the name is :\",username[:1].lower())"
   ]
  },
  {
   "cell_type": "markdown",
   "id": "bb75dabc",
   "metadata": {},
   "source": [
    "## 2[f] - Working with Strings and Numbers"
   ]
  },
  {
   "cell_type": "code",
   "execution_count": 22,
   "id": "8b4aaa1e",
   "metadata": {},
   "outputs": [
    {
     "name": "stdout",
     "output_type": "stream",
     "text": [
      "Enter First Number: 3\n",
      "Enter Second Number: 4\n"
     ]
    },
    {
     "ename": "TypeError",
     "evalue": "can't multiply sequence by non-int of type 'str'",
     "output_type": "error",
     "traceback": [
      "\u001b[1;31m---------------------------------------------------------------------------\u001b[0m",
      "\u001b[1;31mTypeError\u001b[0m                                 Traceback (most recent call last)",
      "\u001b[1;32m<ipython-input-22-1ea3398d3e3e>\u001b[0m in \u001b[0;36m<module>\u001b[1;34m\u001b[0m\n\u001b[0;32m      1\u001b[0m \u001b[0ma\u001b[0m\u001b[1;33m=\u001b[0m\u001b[0minput\u001b[0m\u001b[1;33m(\u001b[0m\u001b[1;34m\"Enter First Number: \"\u001b[0m\u001b[1;33m)\u001b[0m\u001b[1;33m\u001b[0m\u001b[1;33m\u001b[0m\u001b[0m\n\u001b[0;32m      2\u001b[0m \u001b[0mb\u001b[0m\u001b[1;33m=\u001b[0m\u001b[0minput\u001b[0m\u001b[1;33m(\u001b[0m\u001b[1;34m\"Enter Second Number: \"\u001b[0m\u001b[1;33m)\u001b[0m\u001b[1;33m\u001b[0m\u001b[1;33m\u001b[0m\u001b[0m\n\u001b[1;32m----> 3\u001b[1;33m \u001b[0mc\u001b[0m\u001b[1;33m=\u001b[0m\u001b[0ma\u001b[0m\u001b[1;33m*\u001b[0m\u001b[0mb\u001b[0m\u001b[1;33m\u001b[0m\u001b[1;33m\u001b[0m\u001b[0m\n\u001b[0m\u001b[0;32m      4\u001b[0m \u001b[0mprint\u001b[0m\u001b[1;33m(\u001b[0m\u001b[1;34m\"The Product of\"\u001b[0m\u001b[1;33m+\u001b[0m\u001b[0ma\u001b[0m\u001b[1;33m+\u001b[0m\u001b[1;34m\"and\"\u001b[0m\u001b[1;33m+\u001b[0m\u001b[0mb\u001b[0m\u001b[1;33m+\u001b[0m\u001b[1;34m\"is\"\u001b[0m\u001b[1;33m+\u001b[0m\u001b[0mc\u001b[0m\u001b[1;33m)\u001b[0m\u001b[1;33m\u001b[0m\u001b[1;33m\u001b[0m\u001b[0m\n",
      "\u001b[1;31mTypeError\u001b[0m: can't multiply sequence by non-int of type 'str'"
     ]
    }
   ],
   "source": [
    "a=input(\"Enter First Number: \")\n",
    "b=input(\"Enter Second Number: \")\n",
    "c=a*b\n",
    "print(\"The Product of\"+a+\"and\"+b+\"is\"+c)"
   ]
  },
  {
   "cell_type": "code",
   "execution_count": 24,
   "id": "f6ee5d78",
   "metadata": {},
   "outputs": [],
   "source": [
    "#error like above will be displayed. therefore convert variable to float"
   ]
  },
  {
   "cell_type": "code",
   "execution_count": 3,
   "id": "3842c690",
   "metadata": {},
   "outputs": [
    {
     "name": "stdout",
     "output_type": "stream",
     "text": [
      "Enter First Number: 3.4\n",
      "Enter Second Number: 5.6\n",
      "The Product of 3.4 and 5.6 is 19\n"
     ]
    }
   ],
   "source": [
    "a=input(\"Enter First Number: \")\n",
    "b=input(\"Enter Second Number: \")\n",
    "c=float(a)*float(b) #this is the placce where it gets converted\n",
    "print(\"The Product of\",a,\"and\",b,\"is\",int(c))"
   ]
  },
  {
   "cell_type": "markdown",
   "id": "07971d3b",
   "metadata": {},
   "source": [
    "## 2[g] - Streamline your Print Statements "
   ]
  },
  {
   "cell_type": "code",
   "execution_count": 15,
   "id": "94e32863",
   "metadata": {},
   "outputs": [
    {
     "name": "stdout",
     "output_type": "stream",
     "text": [
      "Dhanashree is from my DataScience 11 am batch.\n"
     ]
    }
   ],
   "source": [
    "name=\"Dhanashree\" #str\n",
    "batch=11 #int\n",
    "print(\"{} is from my DataScience {} am batch.\".format(name,batch)) #dot format used most of the times in ML"
   ]
  },
  {
   "cell_type": "code",
   "execution_count": 22,
   "id": "9b8c9997",
   "metadata": {},
   "outputs": [
    {
     "name": "stdout",
     "output_type": "stream",
     "text": [
      "Name: Manju Kiran\n",
      "Age: 30\n",
      "Place: Bangalore\n",
      "Manju Kiran is 30 years old and is from Bangalore .\n"
     ]
    }
   ],
   "source": [
    "name=input(\"Name: \")\n",
    "age=input(\"Age: \")\n",
    "place=input(\"Place: \")\n",
    "print(\"{} is {} years old and is from {} .\".format(name,age,place))"
   ]
  },
  {
   "cell_type": "code",
   "execution_count": 1,
   "id": "2ec064c2",
   "metadata": {
    "scrolled": true
   },
   "outputs": [
    {
     "name": "stdout",
     "output_type": "stream",
     "text": [
      "Enter First Number: 23.4\n",
      "Enter Second Number: 1.2\n",
      "The Product of 23.4 and 1.2 is 28.\n"
     ]
    }
   ],
   "source": [
    "a=input(\"Enter First Number: \")\n",
    "b=input(\"Enter Second Number: \")\n",
    "calc=float(a)*float(b)\n",
    "print(\"The Product of {} and {} is {}.\".format(a,b,int(calc)))"
   ]
  },
  {
   "cell_type": "markdown",
   "id": "90632b7f",
   "metadata": {},
   "source": [
    "## 2[h] Finding a String in a String"
   ]
  },
  {
   "cell_type": "code",
   "execution_count": 23,
   "id": "0aef7dad",
   "metadata": {},
   "outputs": [],
   "source": [
    "comment= \"The weather is so gloomy today\""
   ]
  },
  {
   "cell_type": "code",
   "execution_count": 26,
   "id": "5683f518",
   "metadata": {},
   "outputs": [
    {
     "data": {
      "text/plain": [
       "4"
      ]
     },
     "execution_count": 26,
     "metadata": {},
     "output_type": "execute_result"
    }
   ],
   "source": [
    "comment.find(\"weather\") #include spaces in .find and starts from 0"
   ]
  },
  {
   "cell_type": "code",
   "execution_count": 27,
   "id": "58cbd2ef",
   "metadata": {},
   "outputs": [
    {
     "data": {
      "text/plain": [
       "'The weather is so sunny today'"
      ]
     },
     "execution_count": 27,
     "metadata": {},
     "output_type": "execute_result"
    }
   ],
   "source": [
    "comment.replace(\"gloomy\",\"sunny\") #this is usefull in data cleaning process"
   ]
  },
  {
   "cell_type": "code",
   "execution_count": 28,
   "id": "3ec4c10c",
   "metadata": {},
   "outputs": [
    {
     "data": {
      "text/plain": [
       "'You have won $1000 lottery!!! Congratulations!!!'"
      ]
     },
     "execution_count": 28,
     "metadata": {},
     "output_type": "execute_result"
    }
   ],
   "source": [
    "mail=\"You have won $1000 lottery!!! Congratulations!!!\" #example: to find the spam mail\n",
    "mail"
   ]
  },
  {
   "cell_type": "code",
   "execution_count": 30,
   "id": "d587f8b3",
   "metadata": {},
   "outputs": [
    {
     "data": {
      "text/plain": [
       "'You have won  lottery!!! Congratulations!!!'"
      ]
     },
     "execution_count": 30,
     "metadata": {},
     "output_type": "execute_result"
    }
   ],
   "source": [
    "mail.replace(\"$1000\",\"\") #string must be in the same order"
   ]
  },
  {
   "cell_type": "code",
   "execution_count": 32,
   "id": "08e7ba1d",
   "metadata": {},
   "outputs": [],
   "source": [
    "#regular expressions to replace anywhere in string"
   ]
  },
  {
   "cell_type": "markdown",
   "id": "4e90a3d9",
   "metadata": {},
   "source": [
    "# "
   ]
  },
  {
   "cell_type": "markdown",
   "id": "99ab42a2",
   "metadata": {},
   "source": [
    "# Chapter 3 - Numbers in Python"
   ]
  },
  {
   "cell_type": "markdown",
   "id": "3399252b",
   "metadata": {},
   "source": [
    "##  3[a] - Integers and floating point numbers"
   ]
  },
  {
   "cell_type": "code",
   "execution_count": 33,
   "id": "7323fec7",
   "metadata": {},
   "outputs": [],
   "source": [
    "team_goal=4"
   ]
  },
  {
   "cell_type": "code",
   "execution_count": 34,
   "id": "f5812005",
   "metadata": {},
   "outputs": [
    {
     "data": {
      "text/plain": [
       "int"
      ]
     },
     "execution_count": 34,
     "metadata": {},
     "output_type": "execute_result"
    }
   ],
   "source": [
    "type(team_goal)"
   ]
  },
  {
   "cell_type": "code",
   "execution_count": 6,
   "id": "87cb9efd",
   "metadata": {},
   "outputs": [
    {
     "data": {
      "text/plain": [
       "float"
      ]
     },
     "execution_count": 6,
     "metadata": {},
     "output_type": "execute_result"
    }
   ],
   "source": [
    "avg_marks=-8.56\n",
    "type(avg_marks)"
   ]
  },
  {
   "cell_type": "code",
   "execution_count": 8,
   "id": "fa2558e1",
   "metadata": {},
   "outputs": [
    {
     "name": "stdout",
     "output_type": "stream",
     "text": [
      "8.56\n"
     ]
    }
   ],
   "source": [
    "print(abs(avg_marks))"
   ]
  },
  {
   "cell_type": "markdown",
   "id": "f25528d7",
   "metadata": {},
   "source": [
    "### "
   ]
  },
  {
   "cell_type": "markdown",
   "id": "ad285ecc",
   "metadata": {},
   "source": [
    "# Chapter 4 - Functions and Loops"
   ]
  },
  {
   "cell_type": "code",
   "execution_count": 41,
   "id": "4ed79d20",
   "metadata": {},
   "outputs": [],
   "source": [
    "#3 types of Functions:\n",
    "    #a. Predefined Fuctions - is something which gets installed while you install Jupyter nb\n",
    "    #b.User Defined Functions - Sequence of methods repeated sequencially.(One after the other)\n",
    "    #c. Anonymous Functions"
   ]
  },
  {
   "cell_type": "markdown",
   "id": "30682c69",
   "metadata": {},
   "source": [
    "##  4[a] Write you own functions"
   ]
  },
  {
   "cell_type": "code",
   "execution_count": 44,
   "id": "09fbedbd",
   "metadata": {},
   "outputs": [],
   "source": [
    "def chicken_shop(): #user defined example\n",
    "    print(\"250gm of Chicken\")\n",
    "    print(\"Ginger Garlic Paste\")\n",
    "    print(\"4 Eggs\")"
   ]
  },
  {
   "cell_type": "code",
   "execution_count": 45,
   "id": "032f1d93",
   "metadata": {},
   "outputs": [
    {
     "name": "stdout",
     "output_type": "stream",
     "text": [
      "250gm of Chicken\n",
      "Ginger Garlic Paste\n",
      "4 Eggs\n"
     ]
    }
   ],
   "source": [
    "chicken_shop()"
   ]
  },
  {
   "cell_type": "markdown",
   "id": "e00d4403",
   "metadata": {},
   "source": [
    "#### Positional Arguments"
   ]
  },
  {
   "cell_type": "code",
   "execution_count": 1,
   "id": "56f686fa",
   "metadata": {},
   "outputs": [],
   "source": [
    "def add_numbers(num_1,num_2): #Arguments:the no. of inputs that you are expecting\n",
    "    return(\"Sum of 2 numbers:\",num_1+num_2)"
   ]
  },
  {
   "cell_type": "code",
   "execution_count": 3,
   "id": "7b32a672",
   "metadata": {},
   "outputs": [
    {
     "name": "stdout",
     "output_type": "stream",
     "text": [
      "Sum of 2 numbers: 7\n"
     ]
    }
   ],
   "source": [
    "add_numbers(3,4) #Parameters: (the value we input to the argument created)"
   ]
  },
  {
   "cell_type": "code",
   "execution_count": 67,
   "id": "87db4480",
   "metadata": {},
   "outputs": [],
   "source": [
    "#get 3 different data types and create own function and print which returns some meaningful statement"
   ]
  },
  {
   "cell_type": "code",
   "execution_count": 16,
   "id": "af83eb53",
   "metadata": {},
   "outputs": [],
   "source": [
    "def user_details(age,weight,name):\n",
    "    return \"Your name is {} and you are {} years old and your weight is {} Kgs\".format(name,age,weight)"
   ]
  },
  {
   "cell_type": "code",
   "execution_count": 17,
   "id": "b445b638",
   "metadata": {},
   "outputs": [
    {
     "data": {
      "text/plain": [
       "'Your name is Kiran and you are 33 years old and your weight is 84 Kgs'"
      ]
     },
     "execution_count": 17,
     "metadata": {},
     "output_type": "execute_result"
    }
   ],
   "source": [
    "user_details(33,84,\"Kiran\")"
   ]
  },
  {
   "cell_type": "code",
   "execution_count": 18,
   "id": "c6101732",
   "metadata": {},
   "outputs": [],
   "source": [
    "# it is better to use return instead of print"
   ]
  },
  {
   "cell_type": "markdown",
   "id": "38e24fdf",
   "metadata": {},
   "source": [
    "#### Default Arguments"
   ]
  },
  {
   "cell_type": "code",
   "execution_count": 24,
   "id": "1797f646",
   "metadata": {},
   "outputs": [],
   "source": [
    "def get_emp_details(name,age,sal,company='Google'): #company='Google' in default arguments\n",
    "    print(\"Name:\",name)\n",
    "    print(\"Age:\",age)\n",
    "    print(\"Salary:\",sal)\n",
    "    print(\"Company:\",company)"
   ]
  },
  {
   "cell_type": "code",
   "execution_count": 25,
   "id": "7457a8b7",
   "metadata": {},
   "outputs": [
    {
     "name": "stdout",
     "output_type": "stream",
     "text": [
      "Name: Manju\n",
      "Age: 30\n",
      "Salary: 500000\n",
      "Company: Google\n"
     ]
    }
   ],
   "source": [
    "get_emp_details(\"Manju\",30,500000)#Type in same order"
   ]
  },
  {
   "cell_type": "code",
   "execution_count": 27,
   "id": "4ecb78c5",
   "metadata": {},
   "outputs": [
    {
     "name": "stdout",
     "output_type": "stream",
     "text": [
      "Name: keerthi\n",
      "Age: 29\n",
      "Salary: 30000\n",
      "Company: Google\n"
     ]
    }
   ],
   "source": [
    "get_emp_details(age=29,name=\"keerthi\",sal=30000)#Type in diff order"
   ]
  },
  {
   "cell_type": "code",
   "execution_count": 30,
   "id": "ae62efd1",
   "metadata": {
    "scrolled": false
   },
   "outputs": [
    {
     "name": "stdout",
     "output_type": "stream",
     "text": [
      "Name: Kumar\n",
      "Age: 27\n",
      "Salary: 90000\n",
      "Company: Microsoft\n"
     ]
    }
   ],
   "source": [
    "get_emp_details('Kumar',27,90000,'Microsoft') #if we want to replace default argument"
   ]
  },
  {
   "cell_type": "markdown",
   "id": "d67f2d60",
   "metadata": {},
   "source": [
    "#### Variable Length Argument"
   ]
  },
  {
   "cell_type": "code",
   "execution_count": 40,
   "id": "63e09375",
   "metadata": {},
   "outputs": [
    {
     "name": "stdout",
     "output_type": "stream",
     "text": [
      "Name: Pravina\n",
      "Age: 24\n",
      "Salary: 45000\n",
      "Company: ('Microsoft', 'IBM')\n"
     ]
    }
   ],
   "source": [
    "def get_emp_details(name,age,sal,*company): #(remaining parameters are assigned to *)\n",
    "    print(\"Name:\",name)\n",
    "    print(\"Age:\",age)\n",
    "    print(\"Salary:\",sal)\n",
    "    print(\"Company:\",company)\n",
    "get_emp_details('Pravina',24,45000,'Microsoft','IBM')"
   ]
  },
  {
   "cell_type": "code",
   "execution_count": 33,
   "id": "fdb6a9da",
   "metadata": {},
   "outputs": [
    {
     "name": "stdout",
     "output_type": "stream",
     "text": [
      "Name: John\n",
      "Age: 28\n",
      "Salary: 20000\n",
      "Company: ('ExcelR', 'Decoder', 'Databook')\n"
     ]
    }
   ],
   "source": [
    "get_emp_details('John',28,'ExcelR','Decoder','Databook')"
   ]
  },
  {
   "cell_type": "code",
   "execution_count": 42,
   "id": "17f3b5dc",
   "metadata": {},
   "outputs": [
    {
     "name": "stdout",
     "output_type": "stream",
     "text": [
      "Name: Pravina\n",
      "Age: 24\n",
      "Salary: 45000\n",
      "Company: {'company_1': 'Gooogle', 'company_2': 'Microsoft', 'company_3': 'IBM'}\n"
     ]
    }
   ],
   "source": [
    "def get_emp_details(name,age,sal,**company): #(remaining parameters are assigned to *)\n",
    "    print(\"Name:\",name)\n",
    "    print(\"Age:\",age)\n",
    "    print(\"Salary:\",sal)\n",
    "    print(\"Company:\",company)\n",
    "get_emp_details('Pravina',24,45000,company_1='Gooogle',company_2='Microsoft',company_3='IBM')"
   ]
  },
  {
   "cell_type": "markdown",
   "id": "a71eb276",
   "metadata": {},
   "source": [
    "## 4[b] Run in Circles"
   ]
  },
  {
   "cell_type": "code",
   "execution_count": 7,
   "id": "553719fb",
   "metadata": {},
   "outputs": [
    {
     "data": {
      "text/plain": [
       "[1, 2, 3, 4, 5, 6, 7, 8, 9, 10]"
      ]
     },
     "execution_count": 7,
     "metadata": {},
     "output_type": "execute_result"
    }
   ],
   "source": [
    "a=[1,2,3,4,5,6,7,8,9,10]\n",
    "a"
   ]
  },
  {
   "cell_type": "code",
   "execution_count": 8,
   "id": "4b109459",
   "metadata": {},
   "outputs": [
    {
     "name": "stdout",
     "output_type": "stream",
     "text": [
      "1\n",
      "2\n",
      "3\n",
      "4\n",
      "5\n",
      "6\n",
      "7\n",
      "8\n",
      "9\n",
      "10\n"
     ]
    }
   ],
   "source": [
    "for i in a: #for loop\n",
    "    print(i)"
   ]
  },
  {
   "cell_type": "code",
   "execution_count": 51,
   "id": "3723753f",
   "metadata": {},
   "outputs": [
    {
     "name": "stdout",
     "output_type": "stream",
     "text": [
      "1\n",
      "2\n",
      "3\n",
      "4\n",
      "5\n",
      "6\n",
      "7\n",
      "8\n",
      "9\n",
      "10\n"
     ]
    }
   ],
   "source": [
    "for i in range(1,11):\n",
    "    print(i)"
   ]
  },
  {
   "cell_type": "code",
   "execution_count": 60,
   "id": "8d2bfc03",
   "metadata": {},
   "outputs": [
    {
     "name": "stdout",
     "output_type": "stream",
     "text": [
      "1\n",
      "2\n",
      "3\n",
      "4\n",
      "5\n",
      "6\n",
      "7\n",
      "8\n",
      "9\n",
      "10\n",
      "11\n",
      "12\n",
      "13\n",
      "14\n",
      "15\n",
      "16\n",
      "17\n",
      "18\n",
      "19\n",
      "20\n"
     ]
    }
   ],
   "source": [
    "for a in range(1,21):\n",
    "    print(a)"
   ]
  },
  {
   "cell_type": "markdown",
   "id": "8650c859",
   "metadata": {},
   "source": [
    "## 4[c] Definition with for loop"
   ]
  },
  {
   "cell_type": "code",
   "execution_count": 3,
   "id": "508f950d",
   "metadata": {},
   "outputs": [
    {
     "name": "stdout",
     "output_type": "stream",
     "text": [
      "N\n",
      "e\n",
      "h\n",
      "a\n"
     ]
    },
    {
     "data": {
      "text/plain": [
       "'Splitting in Required'"
      ]
     },
     "execution_count": 3,
     "metadata": {},
     "output_type": "execute_result"
    }
   ],
   "source": [
    "def get_name(name):\n",
    "    for i in name:\n",
    "        print(i)\n",
    "    return(\"Splitting in Required\")\n",
    "\n",
    "get_name(\"Neha\")"
   ]
  },
  {
   "cell_type": "markdown",
   "id": "2d0b132b",
   "metadata": {},
   "source": [
    "# Chapter 5 - Conditional Logic"
   ]
  },
  {
   "cell_type": "markdown",
   "id": "143009cd",
   "metadata": {},
   "source": [
    "### 5[a] Compare values using Arithmatic Operators"
   ]
  },
  {
   "cell_type": "code",
   "execution_count": 17,
   "id": "8dbf04ac",
   "metadata": {},
   "outputs": [
    {
     "data": {
      "text/plain": [
       "False"
      ]
     },
     "execution_count": 17,
     "metadata": {},
     "output_type": "execute_result"
    }
   ],
   "source": [
    "1==5 #Boolean Values"
   ]
  },
  {
   "cell_type": "code",
   "execution_count": 22,
   "id": "cc41f9fb",
   "metadata": {},
   "outputs": [
    {
     "data": {
      "text/plain": [
       "True"
      ]
     },
     "execution_count": 22,
     "metadata": {},
     "output_type": "execute_result"
    }
   ],
   "source": [
    "\"Sneha\"==\"Sneha\" "
   ]
  },
  {
   "cell_type": "code",
   "execution_count": 24,
   "id": "34f862a0",
   "metadata": {},
   "outputs": [
    {
     "data": {
      "text/plain": [
       "False"
      ]
     },
     "execution_count": 24,
     "metadata": {},
     "output_type": "execute_result"
    }
   ],
   "source": [
    "1!=1 #not equal to"
   ]
  },
  {
   "cell_type": "markdown",
   "id": "cf7c5421",
   "metadata": {},
   "source": [
    "##  5[b] Add some logic"
   ]
  },
  {
   "cell_type": "code",
   "execution_count": 31,
   "id": "82739f17",
   "metadata": {},
   "outputs": [
    {
     "data": {
      "text/plain": [
       "False"
      ]
     },
     "execution_count": 31,
     "metadata": {},
     "output_type": "execute_result"
    }
   ],
   "source": [
    "a=5\n",
    "b=10\n",
    "c=15\n",
    "\n",
    "a>b and b<c #logic and T & T-----> T"
   ]
  },
  {
   "cell_type": "code",
   "execution_count": 32,
   "id": "521fddf0",
   "metadata": {},
   "outputs": [
    {
     "data": {
      "text/plain": [
       "True"
      ]
     },
     "execution_count": 32,
     "metadata": {},
     "output_type": "execute_result"
    }
   ],
   "source": [
    "a>b or b<c #F or F ---->F"
   ]
  },
  {
   "cell_type": "code",
   "execution_count": 36,
   "id": "19b7324c",
   "metadata": {},
   "outputs": [
    {
     "data": {
      "text/plain": [
       "True"
      ]
     },
     "execution_count": 36,
     "metadata": {},
     "output_type": "execute_result"
    }
   ],
   "source": [
    "trainer_feedback = 'Snehal is a quick learner'\n",
    "\"quick\" in trainer_feedback #in opertor checks whether the given work is present or not"
   ]
  },
  {
   "cell_type": "code",
   "execution_count": 39,
   "id": "0620f4cc",
   "metadata": {},
   "outputs": [
    {
     "data": {
      "text/plain": [
       "False"
      ]
     },
     "execution_count": 39,
     "metadata": {},
     "output_type": "execute_result"
    }
   ],
   "source": [
    "#not in\n",
    "\"quick\" not in trainer_feedback"
   ]
  },
  {
   "cell_type": "markdown",
   "id": "d9115eb6",
   "metadata": {},
   "source": [
    "##  5[c] Control the flow of your programming"
   ]
  },
  {
   "cell_type": "code",
   "execution_count": 2,
   "id": "93e820f7",
   "metadata": {},
   "outputs": [
    {
     "name": "stdout",
     "output_type": "stream",
     "text": [
      "Type Something....Vishal Dadlani\n",
      "Your input is greater than 5 Characters\n"
     ]
    }
   ],
   "source": [
    "#simple if else statement\n",
    "user_input=input(\"Type Something....\")\n",
    "\n",
    "if len(user_input)<5:\n",
    "    print(\"Your input is less than 5 characters\")\n",
    "else:\n",
    "    print(\"Your input is greater than 5 Characters\")\n"
   ]
  },
  {
   "cell_type": "code",
   "execution_count": 6,
   "id": "d7fb5082",
   "metadata": {},
   "outputs": [
    {
     "name": "stdout",
     "output_type": "stream",
     "text": [
      "Type Something....Sneha\n",
      "Yout input is exactly equal to 5 Characters\n"
     ]
    }
   ],
   "source": [
    "#nested if statement\n",
    "user_input=input(\"Type Something....\")\n",
    "\n",
    "if len(user_input)<5:\n",
    "    print(\"Your input is less than 5 characters\")\n",
    "elif len(user_input)>5:\n",
    "    print(\"Your input is greater than 5 Characters\")\n",
    "else:\n",
    "    print(\"Yout input is exactly equal to 5 Characters\")"
   ]
  },
  {
   "cell_type": "markdown",
   "id": "f4b8a2e2",
   "metadata": {},
   "source": [
    "## 5[d] Challenge to find the factors of a number."
   ]
  },
  {
   "cell_type": "code",
   "execution_count": 7,
   "id": "5150ede2",
   "metadata": {},
   "outputs": [],
   "source": [
    "#for eg if IP=10, my output=1,2,5,10"
   ]
  },
  {
   "cell_type": "code",
   "execution_count": null,
   "id": "8a131bbc",
   "metadata": {},
   "outputs": [],
   "source": [
    "user_input=int(input(\"Enter any Number:\"))\n",
    "\n",
    "for i in range(1,user_input+1):\n",
    "    if user_input % i == 0:\n",
    "        print('{} is a factor of {}'.format(i,user_input))\n",
    "    \n",
    "\n",
    "\n"
   ]
  },
  {
   "cell_type": "markdown",
   "id": "5b1d9e5e",
   "metadata": {},
   "source": [
    "## 5[e] Break out of the Pattern"
   ]
  },
  {
   "cell_type": "code",
   "execution_count": 10,
   "id": "4a73a979",
   "metadata": {},
   "outputs": [
    {
     "name": "stdout",
     "output_type": "stream",
     "text": [
      "Type q or Q to quit from this window:1\n",
      "Type q or Q to quit from this window:2\n",
      "Type q or Q to quit from this window:3\n",
      "Type q or Q to quit from this window:q\n"
     ]
    }
   ],
   "source": [
    "while True:\n",
    "    get_input=input(\"Type q or Q to quit from this window:\")\n",
    "    if get_input.lower() == 'q':\n",
    "        break"
   ]
  },
  {
   "cell_type": "code",
   "execution_count": 13,
   "id": "b81a3a8f",
   "metadata": {},
   "outputs": [
    {
     "name": "stdout",
     "output_type": "stream",
     "text": [
      "1\n",
      "2\n",
      "4\n",
      "5\n",
      "7\n",
      "8\n",
      "10\n",
      "11\n",
      "13\n",
      "14\n",
      "16\n",
      "17\n",
      "19\n",
      "20\n",
      "22\n",
      "23\n",
      "25\n",
      "26\n",
      "28\n",
      "29\n",
      "31\n",
      "32\n",
      "34\n",
      "35\n",
      "37\n",
      "38\n",
      "40\n",
      "41\n",
      "43\n",
      "44\n",
      "46\n",
      "47\n",
      "49\n",
      "50\n",
      "52\n",
      "53\n",
      "55\n",
      "56\n",
      "58\n",
      "59\n",
      "61\n",
      "62\n",
      "64\n",
      "65\n",
      "67\n",
      "68\n",
      "70\n",
      "71\n",
      "73\n",
      "74\n",
      "76\n",
      "77\n",
      "79\n",
      "80\n",
      "82\n",
      "83\n",
      "85\n",
      "86\n",
      "88\n",
      "89\n",
      "91\n",
      "92\n",
      "94\n",
      "95\n",
      "97\n",
      "98\n"
     ]
    }
   ],
   "source": [
    "#continue inside loop\n",
    "for i in range(1,100):\n",
    "    if i%3==0:\n",
    "        continue\n",
    "    print(i)"
   ]
  },
  {
   "cell_type": "code",
   "execution_count": null,
   "id": "cedd92f3",
   "metadata": {},
   "outputs": [],
   "source": []
  }
 ],
 "metadata": {
  "kernelspec": {
   "display_name": "Python 3",
   "language": "python",
   "name": "python3"
  },
  "language_info": {
   "codemirror_mode": {
    "name": "ipython",
    "version": 3
   },
   "file_extension": ".py",
   "mimetype": "text/x-python",
   "name": "python",
   "nbconvert_exporter": "python",
   "pygments_lexer": "ipython3",
   "version": "3.8.8"
  }
 },
 "nbformat": 4,
 "nbformat_minor": 5
}
