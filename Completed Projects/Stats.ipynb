{
 "cells": [
  {
   "cell_type": "markdown",
   "id": "d4ef259b",
   "metadata": {},
   "source": [
    "# 1. Random Variable and Probability"
   ]
  },
  {
   "cell_type": "code",
   "execution_count": 2,
   "id": "09ac46c0",
   "metadata": {},
   "outputs": [],
   "source": [
    "from scipy import stats"
   ]
  },
  {
   "cell_type": "markdown",
   "id": "17451d85",
   "metadata": {},
   "source": [
    "### CDF of Normal Distribution"
   ]
  },
  {
   "cell_type": "code",
   "execution_count": 3,
   "id": "c8adbd74",
   "metadata": {},
   "outputs": [],
   "source": [
    "### Probability of a studnt who scored less than 70"
   ]
  },
  {
   "cell_type": "code",
   "execution_count": 4,
   "id": "e3277d8a",
   "metadata": {},
   "outputs": [
    {
     "data": {
      "text/plain": [
       "0.7475074624530771"
      ]
     },
     "execution_count": 4,
     "metadata": {},
     "output_type": "execute_result"
    }
   ],
   "source": [
    "stats.norm.cdf(x=70,loc=50,scale=30)"
   ]
  },
  {
   "cell_type": "markdown",
   "id": "47bf8128",
   "metadata": {},
   "source": [
    "### Probability of a studnt who scored more than 70"
   ]
  },
  {
   "cell_type": "code",
   "execution_count": 5,
   "id": "8e711ee7",
   "metadata": {},
   "outputs": [
    {
     "data": {
      "text/plain": [
       "0.2524925375469229"
      ]
     },
     "execution_count": 5,
     "metadata": {},
     "output_type": "execute_result"
    }
   ],
   "source": [
    "1-stats.norm.cdf(x=70,loc=50,scale=30)"
   ]
  },
  {
   "cell_type": "code",
   "execution_count": 6,
   "id": "82af2fc1",
   "metadata": {},
   "outputs": [
    {
     "data": {
      "text/plain": [
       "0.14254260383881612"
      ]
     },
     "execution_count": 6,
     "metadata": {},
     "output_type": "execute_result"
    }
   ],
   "source": [
    "stats.norm.cdf(x=680,loc=711,scale=29)"
   ]
  },
  {
   "cell_type": "markdown",
   "id": "cb8d6afb",
   "metadata": {},
   "source": [
    "### Probability of Students scoring between 697 and 711"
   ]
  },
  {
   "cell_type": "code",
   "execution_count": 7,
   "id": "24df92b6",
   "metadata": {},
   "outputs": [
    {
     "data": {
      "text/plain": [
       "0.5267111786415019"
      ]
     },
     "execution_count": 7,
     "metadata": {},
     "output_type": "execute_result"
    }
   ],
   "source": [
    "(stats.norm.cdf(x=740,loc=711,scale=29)-stats.norm.cdf(x=697,loc=711,scale=29))"
   ]
  },
  {
   "cell_type": "markdown",
   "id": "284a77f2",
   "metadata": {},
   "source": [
    "# 2. Normal Distribution"
   ]
  },
  {
   "cell_type": "code",
   "execution_count": 8,
   "id": "98b4b328",
   "metadata": {},
   "outputs": [],
   "source": [
    "import pandas as pd"
   ]
  },
  {
   "cell_type": "code",
   "execution_count": 10,
   "id": "59207db1",
   "metadata": {},
   "outputs": [],
   "source": [
    "glaxo_data=pd.read_csv('GLAXO.csv')"
   ]
  },
  {
   "cell_type": "code",
   "execution_count": 11,
   "id": "e0b7b2a7",
   "metadata": {},
   "outputs": [],
   "source": [
    "beml_data=pd.read_csv('BEML.csv')"
   ]
  },
  {
   "cell_type": "code",
   "execution_count": 59,
   "id": "dd4339bc",
   "metadata": {},
   "outputs": [
    {
     "data": {
      "text/html": [
       "<div>\n",
       "<style scoped>\n",
       "    .dataframe tbody tr th:only-of-type {\n",
       "        vertical-align: middle;\n",
       "    }\n",
       "\n",
       "    .dataframe tbody tr th {\n",
       "        vertical-align: top;\n",
       "    }\n",
       "\n",
       "    .dataframe thead th {\n",
       "        text-align: right;\n",
       "    }\n",
       "</style>\n",
       "<table border=\"1\" class=\"dataframe\">\n",
       "  <thead>\n",
       "    <tr style=\"text-align: right;\">\n",
       "      <th></th>\n",
       "      <th>Date</th>\n",
       "      <th>Open</th>\n",
       "      <th>High</th>\n",
       "      <th>Low</th>\n",
       "      <th>Last</th>\n",
       "      <th>Close</th>\n",
       "      <th>Total Trade Quantity</th>\n",
       "      <th>Turnover (Lacs)</th>\n",
       "    </tr>\n",
       "  </thead>\n",
       "  <tbody>\n",
       "    <tr>\n",
       "      <th>0</th>\n",
       "      <td>2010-01-04</td>\n",
       "      <td>1613.00</td>\n",
       "      <td>1629.10</td>\n",
       "      <td>1602.00</td>\n",
       "      <td>1629.00</td>\n",
       "      <td>1625.65</td>\n",
       "      <td>9365.0</td>\n",
       "      <td>151.74</td>\n",
       "    </tr>\n",
       "    <tr>\n",
       "      <th>1</th>\n",
       "      <td>2010-01-05</td>\n",
       "      <td>1639.95</td>\n",
       "      <td>1639.95</td>\n",
       "      <td>1611.05</td>\n",
       "      <td>1620.00</td>\n",
       "      <td>1616.80</td>\n",
       "      <td>38148.0</td>\n",
       "      <td>622.58</td>\n",
       "    </tr>\n",
       "    <tr>\n",
       "      <th>2</th>\n",
       "      <td>2010-01-06</td>\n",
       "      <td>1618.00</td>\n",
       "      <td>1644.00</td>\n",
       "      <td>1617.00</td>\n",
       "      <td>1639.00</td>\n",
       "      <td>1638.50</td>\n",
       "      <td>36519.0</td>\n",
       "      <td>595.09</td>\n",
       "    </tr>\n",
       "    <tr>\n",
       "      <th>3</th>\n",
       "      <td>2010-01-07</td>\n",
       "      <td>1645.00</td>\n",
       "      <td>1654.00</td>\n",
       "      <td>1636.00</td>\n",
       "      <td>1648.00</td>\n",
       "      <td>1648.70</td>\n",
       "      <td>12809.0</td>\n",
       "      <td>211.00</td>\n",
       "    </tr>\n",
       "    <tr>\n",
       "      <th>4</th>\n",
       "      <td>2010-01-08</td>\n",
       "      <td>1650.00</td>\n",
       "      <td>1650.00</td>\n",
       "      <td>1626.55</td>\n",
       "      <td>1640.00</td>\n",
       "      <td>1639.80</td>\n",
       "      <td>28035.0</td>\n",
       "      <td>459.11</td>\n",
       "    </tr>\n",
       "    <tr>\n",
       "      <th>5</th>\n",
       "      <td>2010-01-11</td>\n",
       "      <td>1659.00</td>\n",
       "      <td>1694.95</td>\n",
       "      <td>1601.05</td>\n",
       "      <td>1630.00</td>\n",
       "      <td>1629.45</td>\n",
       "      <td>10566.0</td>\n",
       "      <td>173.40</td>\n",
       "    </tr>\n",
       "    <tr>\n",
       "      <th>6</th>\n",
       "      <td>2010-01-12</td>\n",
       "      <td>1630.00</td>\n",
       "      <td>1635.00</td>\n",
       "      <td>1578.00</td>\n",
       "      <td>1592.00</td>\n",
       "      <td>1583.85</td>\n",
       "      <td>47274.0</td>\n",
       "      <td>756.75</td>\n",
       "    </tr>\n",
       "    <tr>\n",
       "      <th>7</th>\n",
       "      <td>2010-01-13</td>\n",
       "      <td>1592.00</td>\n",
       "      <td>1605.90</td>\n",
       "      <td>1566.00</td>\n",
       "      <td>1568.00</td>\n",
       "      <td>1571.30</td>\n",
       "      <td>20709.0</td>\n",
       "      <td>327.53</td>\n",
       "    </tr>\n",
       "    <tr>\n",
       "      <th>8</th>\n",
       "      <td>2010-01-14</td>\n",
       "      <td>1580.00</td>\n",
       "      <td>1595.00</td>\n",
       "      <td>1562.40</td>\n",
       "      <td>1572.20</td>\n",
       "      <td>1573.55</td>\n",
       "      <td>13453.0</td>\n",
       "      <td>212.09</td>\n",
       "    </tr>\n",
       "    <tr>\n",
       "      <th>9</th>\n",
       "      <td>2010-01-15</td>\n",
       "      <td>1581.10</td>\n",
       "      <td>1585.00</td>\n",
       "      <td>1565.00</td>\n",
       "      <td>1565.15</td>\n",
       "      <td>1570.40</td>\n",
       "      <td>6408.0</td>\n",
       "      <td>101.06</td>\n",
       "    </tr>\n",
       "    <tr>\n",
       "      <th>10</th>\n",
       "      <td>2010-01-18</td>\n",
       "      <td>1570.00</td>\n",
       "      <td>1579.90</td>\n",
       "      <td>1556.20</td>\n",
       "      <td>1564.50</td>\n",
       "      <td>1562.50</td>\n",
       "      <td>6047.0</td>\n",
       "      <td>94.87</td>\n",
       "    </tr>\n",
       "    <tr>\n",
       "      <th>11</th>\n",
       "      <td>2010-01-19</td>\n",
       "      <td>1570.00</td>\n",
       "      <td>1598.00</td>\n",
       "      <td>1555.50</td>\n",
       "      <td>1560.60</td>\n",
       "      <td>1559.95</td>\n",
       "      <td>3251.0</td>\n",
       "      <td>50.94</td>\n",
       "    </tr>\n",
       "    <tr>\n",
       "      <th>12</th>\n",
       "      <td>2010-01-20</td>\n",
       "      <td>1560.10</td>\n",
       "      <td>1585.00</td>\n",
       "      <td>1552.50</td>\n",
       "      <td>1565.40</td>\n",
       "      <td>1563.45</td>\n",
       "      <td>7712.0</td>\n",
       "      <td>121.25</td>\n",
       "    </tr>\n",
       "    <tr>\n",
       "      <th>13</th>\n",
       "      <td>2010-01-21</td>\n",
       "      <td>1555.00</td>\n",
       "      <td>1570.00</td>\n",
       "      <td>1533.70</td>\n",
       "      <td>1533.70</td>\n",
       "      <td>1539.55</td>\n",
       "      <td>20405.0</td>\n",
       "      <td>315.00</td>\n",
       "    </tr>\n",
       "    <tr>\n",
       "      <th>14</th>\n",
       "      <td>2010-01-22</td>\n",
       "      <td>1531.00</td>\n",
       "      <td>1531.00</td>\n",
       "      <td>1490.10</td>\n",
       "      <td>1515.00</td>\n",
       "      <td>1514.30</td>\n",
       "      <td>20751.0</td>\n",
       "      <td>314.32</td>\n",
       "    </tr>\n",
       "    <tr>\n",
       "      <th>15</th>\n",
       "      <td>2010-01-25</td>\n",
       "      <td>1525.00</td>\n",
       "      <td>1539.90</td>\n",
       "      <td>1502.00</td>\n",
       "      <td>1530.00</td>\n",
       "      <td>1532.05</td>\n",
       "      <td>15467.0</td>\n",
       "      <td>235.22</td>\n",
       "    </tr>\n",
       "    <tr>\n",
       "      <th>16</th>\n",
       "      <td>2010-01-27</td>\n",
       "      <td>1522.00</td>\n",
       "      <td>1545.00</td>\n",
       "      <td>1505.05</td>\n",
       "      <td>1530.00</td>\n",
       "      <td>1523.40</td>\n",
       "      <td>14413.0</td>\n",
       "      <td>219.54</td>\n",
       "    </tr>\n",
       "    <tr>\n",
       "      <th>17</th>\n",
       "      <td>2010-01-28</td>\n",
       "      <td>1544.00</td>\n",
       "      <td>1544.00</td>\n",
       "      <td>1518.25</td>\n",
       "      <td>1530.00</td>\n",
       "      <td>1526.00</td>\n",
       "      <td>46837.0</td>\n",
       "      <td>713.84</td>\n",
       "    </tr>\n",
       "    <tr>\n",
       "      <th>18</th>\n",
       "      <td>2010-01-29</td>\n",
       "      <td>1530.00</td>\n",
       "      <td>1535.75</td>\n",
       "      <td>1515.00</td>\n",
       "      <td>1516.50</td>\n",
       "      <td>1520.45</td>\n",
       "      <td>14737.0</td>\n",
       "      <td>224.41</td>\n",
       "    </tr>\n",
       "    <tr>\n",
       "      <th>19</th>\n",
       "      <td>2010-02-01</td>\n",
       "      <td>1521.00</td>\n",
       "      <td>1545.00</td>\n",
       "      <td>1501.00</td>\n",
       "      <td>1540.25</td>\n",
       "      <td>1540.75</td>\n",
       "      <td>18281.0</td>\n",
       "      <td>279.03</td>\n",
       "    </tr>\n",
       "  </tbody>\n",
       "</table>\n",
       "</div>"
      ],
      "text/plain": [
       "          Date     Open     High      Low     Last    Close  \\\n",
       "0   2010-01-04  1613.00  1629.10  1602.00  1629.00  1625.65   \n",
       "1   2010-01-05  1639.95  1639.95  1611.05  1620.00  1616.80   \n",
       "2   2010-01-06  1618.00  1644.00  1617.00  1639.00  1638.50   \n",
       "3   2010-01-07  1645.00  1654.00  1636.00  1648.00  1648.70   \n",
       "4   2010-01-08  1650.00  1650.00  1626.55  1640.00  1639.80   \n",
       "5   2010-01-11  1659.00  1694.95  1601.05  1630.00  1629.45   \n",
       "6   2010-01-12  1630.00  1635.00  1578.00  1592.00  1583.85   \n",
       "7   2010-01-13  1592.00  1605.90  1566.00  1568.00  1571.30   \n",
       "8   2010-01-14  1580.00  1595.00  1562.40  1572.20  1573.55   \n",
       "9   2010-01-15  1581.10  1585.00  1565.00  1565.15  1570.40   \n",
       "10  2010-01-18  1570.00  1579.90  1556.20  1564.50  1562.50   \n",
       "11  2010-01-19  1570.00  1598.00  1555.50  1560.60  1559.95   \n",
       "12  2010-01-20  1560.10  1585.00  1552.50  1565.40  1563.45   \n",
       "13  2010-01-21  1555.00  1570.00  1533.70  1533.70  1539.55   \n",
       "14  2010-01-22  1531.00  1531.00  1490.10  1515.00  1514.30   \n",
       "15  2010-01-25  1525.00  1539.90  1502.00  1530.00  1532.05   \n",
       "16  2010-01-27  1522.00  1545.00  1505.05  1530.00  1523.40   \n",
       "17  2010-01-28  1544.00  1544.00  1518.25  1530.00  1526.00   \n",
       "18  2010-01-29  1530.00  1535.75  1515.00  1516.50  1520.45   \n",
       "19  2010-02-01  1521.00  1545.00  1501.00  1540.25  1540.75   \n",
       "\n",
       "    Total Trade Quantity  Turnover (Lacs)  \n",
       "0                 9365.0           151.74  \n",
       "1                38148.0           622.58  \n",
       "2                36519.0           595.09  \n",
       "3                12809.0           211.00  \n",
       "4                28035.0           459.11  \n",
       "5                10566.0           173.40  \n",
       "6                47274.0           756.75  \n",
       "7                20709.0           327.53  \n",
       "8                13453.0           212.09  \n",
       "9                 6408.0           101.06  \n",
       "10                6047.0            94.87  \n",
       "11                3251.0            50.94  \n",
       "12                7712.0           121.25  \n",
       "13               20405.0           315.00  \n",
       "14               20751.0           314.32  \n",
       "15               15467.0           235.22  \n",
       "16               14413.0           219.54  \n",
       "17               46837.0           713.84  \n",
       "18               14737.0           224.41  \n",
       "19               18281.0           279.03  "
      ]
     },
     "execution_count": 59,
     "metadata": {},
     "output_type": "execute_result"
    }
   ],
   "source": [
    "glaxo_data.head(20)"
   ]
  },
  {
   "cell_type": "markdown",
   "id": "75762d79",
   "metadata": {},
   "source": [
    "## beml_data.head(20)"
   ]
  },
  {
   "cell_type": "code",
   "execution_count": 15,
   "id": "d0d0b89e",
   "metadata": {},
   "outputs": [
    {
     "data": {
      "text/plain": [
       "(1739, 8)"
      ]
     },
     "execution_count": 15,
     "metadata": {},
     "output_type": "execute_result"
    }
   ],
   "source": [
    "glaxo_data.shape"
   ]
  },
  {
   "cell_type": "code",
   "execution_count": 16,
   "id": "9b2def08",
   "metadata": {},
   "outputs": [
    {
     "data": {
      "text/plain": [
       "(1739, 8)"
      ]
     },
     "execution_count": 16,
     "metadata": {},
     "output_type": "execute_result"
    }
   ],
   "source": [
    "beml_data.shape"
   ]
  },
  {
   "cell_type": "code",
   "execution_count": 17,
   "id": "921c5939",
   "metadata": {},
   "outputs": [],
   "source": [
    "beml_data_daily_trade=beml_data[['Date','Close']]\n",
    "glaxo_data_daily_trade=glaxo_data[['Date','Close']]"
   ]
  },
  {
   "cell_type": "code",
   "execution_count": 19,
   "id": "5b871b8b",
   "metadata": {},
   "outputs": [
    {
     "data": {
      "text/plain": [
       "Date      object\n",
       "Close    float64\n",
       "dtype: object"
      ]
     },
     "execution_count": 19,
     "metadata": {},
     "output_type": "execute_result"
    }
   ],
   "source": [
    "glaxo_data_daily_trade.dtypes"
   ]
  },
  {
   "cell_type": "code",
   "execution_count": 24,
   "id": "89bd3b2d",
   "metadata": {},
   "outputs": [
    {
     "name": "stderr",
     "output_type": "stream",
     "text": [
      "C:\\Users\\smbas\\anaconda3\\lib\\site-packages\\pandas\\core\\generic.py:5494: SettingWithCopyWarning: \n",
      "A value is trying to be set on a copy of a slice from a DataFrame.\n",
      "Try using .loc[row_indexer,col_indexer] = value instead\n",
      "\n",
      "See the caveats in the documentation: https://pandas.pydata.org/pandas-docs/stable/user_guide/indexing.html#returning-a-view-versus-a-copy\n",
      "  self[name] = value\n"
     ]
    }
   ],
   "source": [
    "glaxo_data_daily_trade.Date=pd.to_datetime(glaxo_data_daily_trade.Date)\n",
    "beml_data_daily_trade.Date=pd.to_datetime(beml_data_daily_trade.Date)"
   ]
  },
  {
   "cell_type": "code",
   "execution_count": 26,
   "id": "b15de5a6",
   "metadata": {},
   "outputs": [],
   "source": [
    "import warnings\n",
    "warnings.filterwarnings('ignore')"
   ]
  },
  {
   "cell_type": "code",
   "execution_count": 27,
   "id": "ea0d12db",
   "metadata": {},
   "outputs": [
    {
     "data": {
      "text/plain": [
       "Date     datetime64[ns]\n",
       "Close           float64\n",
       "dtype: object"
      ]
     },
     "execution_count": 27,
     "metadata": {},
     "output_type": "execute_result"
    }
   ],
   "source": [
    "glaxo_data_daily_trade.dtypes"
   ]
  },
  {
   "cell_type": "code",
   "execution_count": 28,
   "id": "4e78f576",
   "metadata": {},
   "outputs": [
    {
     "data": {
      "text/plain": [
       "Date     datetime64[ns]\n",
       "Close           float64\n",
       "dtype: object"
      ]
     },
     "execution_count": 28,
     "metadata": {},
     "output_type": "execute_result"
    }
   ],
   "source": [
    "beml_data_daily_trade.dtypes"
   ]
  },
  {
   "cell_type": "code",
   "execution_count": 29,
   "id": "95fa349d",
   "metadata": {},
   "outputs": [
    {
     "data": {
      "text/html": [
       "<div>\n",
       "<style scoped>\n",
       "    .dataframe tbody tr th:only-of-type {\n",
       "        vertical-align: middle;\n",
       "    }\n",
       "\n",
       "    .dataframe tbody tr th {\n",
       "        vertical-align: top;\n",
       "    }\n",
       "\n",
       "    .dataframe thead th {\n",
       "        text-align: right;\n",
       "    }\n",
       "</style>\n",
       "<table border=\"1\" class=\"dataframe\">\n",
       "  <thead>\n",
       "    <tr style=\"text-align: right;\">\n",
       "      <th></th>\n",
       "      <th>Date</th>\n",
       "      <th>Close</th>\n",
       "    </tr>\n",
       "  </thead>\n",
       "  <tbody>\n",
       "    <tr>\n",
       "      <th>0</th>\n",
       "      <td>2010-01-04</td>\n",
       "      <td>1625.65</td>\n",
       "    </tr>\n",
       "    <tr>\n",
       "      <th>1</th>\n",
       "      <td>2010-01-05</td>\n",
       "      <td>1616.80</td>\n",
       "    </tr>\n",
       "    <tr>\n",
       "      <th>2</th>\n",
       "      <td>2010-01-06</td>\n",
       "      <td>1638.50</td>\n",
       "    </tr>\n",
       "    <tr>\n",
       "      <th>3</th>\n",
       "      <td>2010-01-07</td>\n",
       "      <td>1648.70</td>\n",
       "    </tr>\n",
       "    <tr>\n",
       "      <th>4</th>\n",
       "      <td>2010-01-08</td>\n",
       "      <td>1639.80</td>\n",
       "    </tr>\n",
       "    <tr>\n",
       "      <th>5</th>\n",
       "      <td>2010-01-11</td>\n",
       "      <td>1629.45</td>\n",
       "    </tr>\n",
       "    <tr>\n",
       "      <th>6</th>\n",
       "      <td>2010-01-12</td>\n",
       "      <td>1583.85</td>\n",
       "    </tr>\n",
       "    <tr>\n",
       "      <th>7</th>\n",
       "      <td>2010-01-13</td>\n",
       "      <td>1571.30</td>\n",
       "    </tr>\n",
       "    <tr>\n",
       "      <th>8</th>\n",
       "      <td>2010-01-14</td>\n",
       "      <td>1573.55</td>\n",
       "    </tr>\n",
       "    <tr>\n",
       "      <th>9</th>\n",
       "      <td>2010-01-15</td>\n",
       "      <td>1570.40</td>\n",
       "    </tr>\n",
       "    <tr>\n",
       "      <th>10</th>\n",
       "      <td>2010-01-18</td>\n",
       "      <td>1562.50</td>\n",
       "    </tr>\n",
       "    <tr>\n",
       "      <th>11</th>\n",
       "      <td>2010-01-19</td>\n",
       "      <td>1559.95</td>\n",
       "    </tr>\n",
       "    <tr>\n",
       "      <th>12</th>\n",
       "      <td>2010-01-20</td>\n",
       "      <td>1563.45</td>\n",
       "    </tr>\n",
       "    <tr>\n",
       "      <th>13</th>\n",
       "      <td>2010-01-21</td>\n",
       "      <td>1539.55</td>\n",
       "    </tr>\n",
       "    <tr>\n",
       "      <th>14</th>\n",
       "      <td>2010-01-22</td>\n",
       "      <td>1514.30</td>\n",
       "    </tr>\n",
       "    <tr>\n",
       "      <th>15</th>\n",
       "      <td>2010-01-25</td>\n",
       "      <td>1532.05</td>\n",
       "    </tr>\n",
       "    <tr>\n",
       "      <th>16</th>\n",
       "      <td>2010-01-27</td>\n",
       "      <td>1523.40</td>\n",
       "    </tr>\n",
       "    <tr>\n",
       "      <th>17</th>\n",
       "      <td>2010-01-28</td>\n",
       "      <td>1526.00</td>\n",
       "    </tr>\n",
       "    <tr>\n",
       "      <th>18</th>\n",
       "      <td>2010-01-29</td>\n",
       "      <td>1520.45</td>\n",
       "    </tr>\n",
       "    <tr>\n",
       "      <th>19</th>\n",
       "      <td>2010-02-01</td>\n",
       "      <td>1540.75</td>\n",
       "    </tr>\n",
       "  </tbody>\n",
       "</table>\n",
       "</div>"
      ],
      "text/plain": [
       "         Date    Close\n",
       "0  2010-01-04  1625.65\n",
       "1  2010-01-05  1616.80\n",
       "2  2010-01-06  1638.50\n",
       "3  2010-01-07  1648.70\n",
       "4  2010-01-08  1639.80\n",
       "5  2010-01-11  1629.45\n",
       "6  2010-01-12  1583.85\n",
       "7  2010-01-13  1571.30\n",
       "8  2010-01-14  1573.55\n",
       "9  2010-01-15  1570.40\n",
       "10 2010-01-18  1562.50\n",
       "11 2010-01-19  1559.95\n",
       "12 2010-01-20  1563.45\n",
       "13 2010-01-21  1539.55\n",
       "14 2010-01-22  1514.30\n",
       "15 2010-01-25  1532.05\n",
       "16 2010-01-27  1523.40\n",
       "17 2010-01-28  1526.00\n",
       "18 2010-01-29  1520.45\n",
       "19 2010-02-01  1540.75"
      ]
     },
     "execution_count": 29,
     "metadata": {},
     "output_type": "execute_result"
    }
   ],
   "source": [
    "glaxo_data_daily_trade.head(20)"
   ]
  },
  {
   "cell_type": "code",
   "execution_count": 31,
   "id": "7bda2862",
   "metadata": {},
   "outputs": [
    {
     "data": {
      "text/html": [
       "<div>\n",
       "<style scoped>\n",
       "    .dataframe tbody tr th:only-of-type {\n",
       "        vertical-align: middle;\n",
       "    }\n",
       "\n",
       "    .dataframe tbody tr th {\n",
       "        vertical-align: top;\n",
       "    }\n",
       "\n",
       "    .dataframe thead th {\n",
       "        text-align: right;\n",
       "    }\n",
       "</style>\n",
       "<table border=\"1\" class=\"dataframe\">\n",
       "  <thead>\n",
       "    <tr style=\"text-align: right;\">\n",
       "      <th></th>\n",
       "      <th>Date</th>\n",
       "      <th>Close</th>\n",
       "    </tr>\n",
       "  </thead>\n",
       "  <tbody>\n",
       "    <tr>\n",
       "      <th>0</th>\n",
       "      <td>2010-01-04</td>\n",
       "      <td>1135.60</td>\n",
       "    </tr>\n",
       "    <tr>\n",
       "      <th>1</th>\n",
       "      <td>2010-01-05</td>\n",
       "      <td>1134.60</td>\n",
       "    </tr>\n",
       "    <tr>\n",
       "      <th>2</th>\n",
       "      <td>2010-01-06</td>\n",
       "      <td>1139.60</td>\n",
       "    </tr>\n",
       "    <tr>\n",
       "      <th>3</th>\n",
       "      <td>2010-01-07</td>\n",
       "      <td>1144.15</td>\n",
       "    </tr>\n",
       "    <tr>\n",
       "      <th>4</th>\n",
       "      <td>2010-01-08</td>\n",
       "      <td>1144.05</td>\n",
       "    </tr>\n",
       "    <tr>\n",
       "      <th>5</th>\n",
       "      <td>2010-01-11</td>\n",
       "      <td>1137.00</td>\n",
       "    </tr>\n",
       "    <tr>\n",
       "      <th>6</th>\n",
       "      <td>2010-01-12</td>\n",
       "      <td>1143.65</td>\n",
       "    </tr>\n",
       "    <tr>\n",
       "      <th>7</th>\n",
       "      <td>2010-01-13</td>\n",
       "      <td>1142.25</td>\n",
       "    </tr>\n",
       "    <tr>\n",
       "      <th>8</th>\n",
       "      <td>2010-01-14</td>\n",
       "      <td>1148.20</td>\n",
       "    </tr>\n",
       "    <tr>\n",
       "      <th>9</th>\n",
       "      <td>2010-01-15</td>\n",
       "      <td>1207.05</td>\n",
       "    </tr>\n",
       "    <tr>\n",
       "      <th>10</th>\n",
       "      <td>2010-01-18</td>\n",
       "      <td>1236.25</td>\n",
       "    </tr>\n",
       "    <tr>\n",
       "      <th>11</th>\n",
       "      <td>2010-01-19</td>\n",
       "      <td>1221.25</td>\n",
       "    </tr>\n",
       "    <tr>\n",
       "      <th>12</th>\n",
       "      <td>2010-01-20</td>\n",
       "      <td>1186.20</td>\n",
       "    </tr>\n",
       "    <tr>\n",
       "      <th>13</th>\n",
       "      <td>2010-01-21</td>\n",
       "      <td>1150.15</td>\n",
       "    </tr>\n",
       "    <tr>\n",
       "      <th>14</th>\n",
       "      <td>2010-01-22</td>\n",
       "      <td>1170.75</td>\n",
       "    </tr>\n",
       "    <tr>\n",
       "      <th>15</th>\n",
       "      <td>2010-01-25</td>\n",
       "      <td>1154.70</td>\n",
       "    </tr>\n",
       "    <tr>\n",
       "      <th>16</th>\n",
       "      <td>2010-01-27</td>\n",
       "      <td>1058.60</td>\n",
       "    </tr>\n",
       "    <tr>\n",
       "      <th>17</th>\n",
       "      <td>2010-01-28</td>\n",
       "      <td>1039.30</td>\n",
       "    </tr>\n",
       "    <tr>\n",
       "      <th>18</th>\n",
       "      <td>2010-01-29</td>\n",
       "      <td>1068.95</td>\n",
       "    </tr>\n",
       "    <tr>\n",
       "      <th>19</th>\n",
       "      <td>2010-02-01</td>\n",
       "      <td>1140.10</td>\n",
       "    </tr>\n",
       "  </tbody>\n",
       "</table>\n",
       "</div>"
      ],
      "text/plain": [
       "         Date    Close\n",
       "0  2010-01-04  1135.60\n",
       "1  2010-01-05  1134.60\n",
       "2  2010-01-06  1139.60\n",
       "3  2010-01-07  1144.15\n",
       "4  2010-01-08  1144.05\n",
       "5  2010-01-11  1137.00\n",
       "6  2010-01-12  1143.65\n",
       "7  2010-01-13  1142.25\n",
       "8  2010-01-14  1148.20\n",
       "9  2010-01-15  1207.05\n",
       "10 2010-01-18  1236.25\n",
       "11 2010-01-19  1221.25\n",
       "12 2010-01-20  1186.20\n",
       "13 2010-01-21  1150.15\n",
       "14 2010-01-22  1170.75\n",
       "15 2010-01-25  1154.70\n",
       "16 2010-01-27  1058.60\n",
       "17 2010-01-28  1039.30\n",
       "18 2010-01-29  1068.95\n",
       "19 2010-02-01  1140.10"
      ]
     },
     "execution_count": 31,
     "metadata": {},
     "output_type": "execute_result"
    }
   ],
   "source": [
    "beml_data_daily_trade.head(20)"
   ]
  },
  {
   "cell_type": "markdown",
   "id": "e5e237c7",
   "metadata": {},
   "source": [
    "## Data Visualization for analysis"
   ]
  },
  {
   "cell_type": "code",
   "execution_count": 45,
   "id": "13849d4f",
   "metadata": {},
   "outputs": [],
   "source": [
    "import matplotlib.pyplot as plt"
   ]
  },
  {
   "cell_type": "code",
   "execution_count": 46,
   "id": "a1dafeff",
   "metadata": {},
   "outputs": [
    {
     "data": {
      "text/plain": [
       "Text(0, 0.5, 'Close Price')"
      ]
     },
     "execution_count": 46,
     "metadata": {},
     "output_type": "execute_result"
    },
    {
     "data": {
      "image/png": "[encoded data removed]",
      "text/plain": [
       "<Figure size 1080x432 with 1 Axes>"
      ]
     },
     "metadata": {
      "needs_background": "light"
     },
     "output_type": "display_data"
    }
   ],
   "source": [
    "plt.figure(figsize=(15,6))\n",
    "plt.plot(beml_data_daily_trade.Date,beml_data_daily_trade.Close)\n",
    "plt.title(\"BEML Daily Return\",size=30)\n",
    "plt.xlabel('Year',size=15)\n",
    "plt.ylabel('Close Price',size=15)"
   ]
  },
  {
   "cell_type": "code",
   "execution_count": 44,
   "id": "40102951",
   "metadata": {},
   "outputs": [
    {
     "data": {
      "text/plain": [
       "Text(0, 0.5, 'Close Price')"
      ]
     },
     "execution_count": 44,
     "metadata": {},
     "output_type": "execute_result"
    },
    {
     "data": {
      "image/png": "[encoded data removed]",
      "text/plain": [
       "<Figure size 1080x432 with 1 Axes>"
      ]
     },
     "metadata": {
      "needs_background": "light"
     },
     "output_type": "display_data"
    }
   ],
   "source": [
    "plt.figure(figsize=(15,6))\n",
    "plt.plot(glaxo_data_daily_trade.Date,glaxo_data_daily_trade.Close)\n",
    "plt.title(\"GLAXO Daily Return\",size=30)\n",
    "plt.xlabel('Year',size=15)\n",
    "plt.ylabel('Close Price',size=15)"
   ]
  },
  {
   "cell_type": "markdown",
   "id": "aaf97497",
   "metadata": {},
   "source": [
    "## Understanding Gain"
   ]
  },
  {
   "cell_type": "code",
   "execution_count": 48,
   "id": "c044af4b",
   "metadata": {},
   "outputs": [],
   "source": [
    "beml_data_daily_trade['Gain']=beml_data_daily_trade.Close.pct_change(periods=1)\n",
    "glaxo_data_daily_trade['Gain']=glaxo_data_daily_trade.Close.pct_change(periods=1)"
   ]
  },
  {
   "cell_type": "markdown",
   "id": "e38ff7ea",
   "metadata": {},
   "source": [
    "# Data Cleaning"
   ]
  },
  {
   "cell_type": "code",
   "execution_count": 62,
   "id": "8ba04692",
   "metadata": {},
   "outputs": [],
   "source": [
    "glaxo_data_daily_trade.dropna(inplace=True)\n",
    "beml_data_daily_trade.dropna(inplace=True)"
   ]
  },
  {
   "cell_type": "code",
   "execution_count": 63,
   "id": "b144b95c",
   "metadata": {},
   "outputs": [
    {
     "data": {
      "text/html": [
       "<div>\n",
       "<style scoped>\n",
       "    .dataframe tbody tr th:only-of-type {\n",
       "        vertical-align: middle;\n",
       "    }\n",
       "\n",
       "    .dataframe tbody tr th {\n",
       "        vertical-align: top;\n",
       "    }\n",
       "\n",
       "    .dataframe thead th {\n",
       "        text-align: right;\n",
       "    }\n",
       "</style>\n",
       "<table border=\"1\" class=\"dataframe\">\n",
       "  <thead>\n",
       "    <tr style=\"text-align: right;\">\n",
       "      <th></th>\n",
       "      <th>Date</th>\n",
       "      <th>Close</th>\n",
       "      <th>Gain</th>\n",
       "    </tr>\n",
       "  </thead>\n",
       "  <tbody>\n",
       "    <tr>\n",
       "      <th>1</th>\n",
       "      <td>2010-01-05</td>\n",
       "      <td>1134.60</td>\n",
       "      <td>-0.000881</td>\n",
       "    </tr>\n",
       "    <tr>\n",
       "      <th>2</th>\n",
       "      <td>2010-01-06</td>\n",
       "      <td>1139.60</td>\n",
       "      <td>0.004407</td>\n",
       "    </tr>\n",
       "    <tr>\n",
       "      <th>3</th>\n",
       "      <td>2010-01-07</td>\n",
       "      <td>1144.15</td>\n",
       "      <td>0.003993</td>\n",
       "    </tr>\n",
       "    <tr>\n",
       "      <th>4</th>\n",
       "      <td>2010-01-08</td>\n",
       "      <td>1144.05</td>\n",
       "      <td>-0.000087</td>\n",
       "    </tr>\n",
       "    <tr>\n",
       "      <th>5</th>\n",
       "      <td>2010-01-11</td>\n",
       "      <td>1137.00</td>\n",
       "      <td>-0.006162</td>\n",
       "    </tr>\n",
       "    <tr>\n",
       "      <th>6</th>\n",
       "      <td>2010-01-12</td>\n",
       "      <td>1143.65</td>\n",
       "      <td>0.005849</td>\n",
       "    </tr>\n",
       "    <tr>\n",
       "      <th>7</th>\n",
       "      <td>2010-01-13</td>\n",
       "      <td>1142.25</td>\n",
       "      <td>-0.001224</td>\n",
       "    </tr>\n",
       "    <tr>\n",
       "      <th>8</th>\n",
       "      <td>2010-01-14</td>\n",
       "      <td>1148.20</td>\n",
       "      <td>0.005209</td>\n",
       "    </tr>\n",
       "    <tr>\n",
       "      <th>9</th>\n",
       "      <td>2010-01-15</td>\n",
       "      <td>1207.05</td>\n",
       "      <td>0.051254</td>\n",
       "    </tr>\n",
       "    <tr>\n",
       "      <th>10</th>\n",
       "      <td>2010-01-18</td>\n",
       "      <td>1236.25</td>\n",
       "      <td>0.024191</td>\n",
       "    </tr>\n",
       "    <tr>\n",
       "      <th>11</th>\n",
       "      <td>2010-01-19</td>\n",
       "      <td>1221.25</td>\n",
       "      <td>-0.012133</td>\n",
       "    </tr>\n",
       "    <tr>\n",
       "      <th>12</th>\n",
       "      <td>2010-01-20</td>\n",
       "      <td>1186.20</td>\n",
       "      <td>-0.028700</td>\n",
       "    </tr>\n",
       "    <tr>\n",
       "      <th>13</th>\n",
       "      <td>2010-01-21</td>\n",
       "      <td>1150.15</td>\n",
       "      <td>-0.030391</td>\n",
       "    </tr>\n",
       "    <tr>\n",
       "      <th>14</th>\n",
       "      <td>2010-01-22</td>\n",
       "      <td>1170.75</td>\n",
       "      <td>0.017911</td>\n",
       "    </tr>\n",
       "    <tr>\n",
       "      <th>15</th>\n",
       "      <td>2010-01-25</td>\n",
       "      <td>1154.70</td>\n",
       "      <td>-0.013709</td>\n",
       "    </tr>\n",
       "    <tr>\n",
       "      <th>16</th>\n",
       "      <td>2010-01-27</td>\n",
       "      <td>1058.60</td>\n",
       "      <td>-0.083225</td>\n",
       "    </tr>\n",
       "    <tr>\n",
       "      <th>17</th>\n",
       "      <td>2010-01-28</td>\n",
       "      <td>1039.30</td>\n",
       "      <td>-0.018232</td>\n",
       "    </tr>\n",
       "    <tr>\n",
       "      <th>18</th>\n",
       "      <td>2010-01-29</td>\n",
       "      <td>1068.95</td>\n",
       "      <td>0.028529</td>\n",
       "    </tr>\n",
       "    <tr>\n",
       "      <th>19</th>\n",
       "      <td>2010-02-01</td>\n",
       "      <td>1140.10</td>\n",
       "      <td>0.066561</td>\n",
       "    </tr>\n",
       "    <tr>\n",
       "      <th>20</th>\n",
       "      <td>2010-02-02</td>\n",
       "      <td>1107.95</td>\n",
       "      <td>-0.028199</td>\n",
       "    </tr>\n",
       "  </tbody>\n",
       "</table>\n",
       "</div>"
      ],
      "text/plain": [
       "         Date    Close      Gain\n",
       "1  2010-01-05  1134.60 -0.000881\n",
       "2  2010-01-06  1139.60  0.004407\n",
       "3  2010-01-07  1144.15  0.003993\n",
       "4  2010-01-08  1144.05 -0.000087\n",
       "5  2010-01-11  1137.00 -0.006162\n",
       "6  2010-01-12  1143.65  0.005849\n",
       "7  2010-01-13  1142.25 -0.001224\n",
       "8  2010-01-14  1148.20  0.005209\n",
       "9  2010-01-15  1207.05  0.051254\n",
       "10 2010-01-18  1236.25  0.024191\n",
       "11 2010-01-19  1221.25 -0.012133\n",
       "12 2010-01-20  1186.20 -0.028700\n",
       "13 2010-01-21  1150.15 -0.030391\n",
       "14 2010-01-22  1170.75  0.017911\n",
       "15 2010-01-25  1154.70 -0.013709\n",
       "16 2010-01-27  1058.60 -0.083225\n",
       "17 2010-01-28  1039.30 -0.018232\n",
       "18 2010-01-29  1068.95  0.028529\n",
       "19 2010-02-01  1140.10  0.066561\n",
       "20 2010-02-02  1107.95 -0.028199"
      ]
     },
     "execution_count": 63,
     "metadata": {},
     "output_type": "execute_result"
    }
   ],
   "source": [
    "beml_data_daily_trade.head(20)"
   ]
  },
  {
   "cell_type": "code",
   "execution_count": 64,
   "id": "1a9ba0cb",
   "metadata": {},
   "outputs": [
    {
     "data": {
      "text/html": [
       "<div>\n",
       "<style scoped>\n",
       "    .dataframe tbody tr th:only-of-type {\n",
       "        vertical-align: middle;\n",
       "    }\n",
       "\n",
       "    .dataframe tbody tr th {\n",
       "        vertical-align: top;\n",
       "    }\n",
       "\n",
       "    .dataframe thead th {\n",
       "        text-align: right;\n",
       "    }\n",
       "</style>\n",
       "<table border=\"1\" class=\"dataframe\">\n",
       "  <thead>\n",
       "    <tr style=\"text-align: right;\">\n",
       "      <th></th>\n",
       "      <th>Date</th>\n",
       "      <th>Close</th>\n",
       "      <th>Gain</th>\n",
       "    </tr>\n",
       "  </thead>\n",
       "  <tbody>\n",
       "    <tr>\n",
       "      <th>1</th>\n",
       "      <td>2010-01-05</td>\n",
       "      <td>1616.80</td>\n",
       "      <td>-0.005444</td>\n",
       "    </tr>\n",
       "    <tr>\n",
       "      <th>2</th>\n",
       "      <td>2010-01-06</td>\n",
       "      <td>1638.50</td>\n",
       "      <td>0.013422</td>\n",
       "    </tr>\n",
       "    <tr>\n",
       "      <th>3</th>\n",
       "      <td>2010-01-07</td>\n",
       "      <td>1648.70</td>\n",
       "      <td>0.006225</td>\n",
       "    </tr>\n",
       "    <tr>\n",
       "      <th>4</th>\n",
       "      <td>2010-01-08</td>\n",
       "      <td>1639.80</td>\n",
       "      <td>-0.005398</td>\n",
       "    </tr>\n",
       "    <tr>\n",
       "      <th>5</th>\n",
       "      <td>2010-01-11</td>\n",
       "      <td>1629.45</td>\n",
       "      <td>-0.006312</td>\n",
       "    </tr>\n",
       "    <tr>\n",
       "      <th>6</th>\n",
       "      <td>2010-01-12</td>\n",
       "      <td>1583.85</td>\n",
       "      <td>-0.027985</td>\n",
       "    </tr>\n",
       "    <tr>\n",
       "      <th>7</th>\n",
       "      <td>2010-01-13</td>\n",
       "      <td>1571.30</td>\n",
       "      <td>-0.007924</td>\n",
       "    </tr>\n",
       "    <tr>\n",
       "      <th>8</th>\n",
       "      <td>2010-01-14</td>\n",
       "      <td>1573.55</td>\n",
       "      <td>0.001432</td>\n",
       "    </tr>\n",
       "    <tr>\n",
       "      <th>9</th>\n",
       "      <td>2010-01-15</td>\n",
       "      <td>1570.40</td>\n",
       "      <td>-0.002002</td>\n",
       "    </tr>\n",
       "    <tr>\n",
       "      <th>10</th>\n",
       "      <td>2010-01-18</td>\n",
       "      <td>1562.50</td>\n",
       "      <td>-0.005031</td>\n",
       "    </tr>\n",
       "    <tr>\n",
       "      <th>11</th>\n",
       "      <td>2010-01-19</td>\n",
       "      <td>1559.95</td>\n",
       "      <td>-0.001632</td>\n",
       "    </tr>\n",
       "    <tr>\n",
       "      <th>12</th>\n",
       "      <td>2010-01-20</td>\n",
       "      <td>1563.45</td>\n",
       "      <td>0.002244</td>\n",
       "    </tr>\n",
       "    <tr>\n",
       "      <th>13</th>\n",
       "      <td>2010-01-21</td>\n",
       "      <td>1539.55</td>\n",
       "      <td>-0.015287</td>\n",
       "    </tr>\n",
       "    <tr>\n",
       "      <th>14</th>\n",
       "      <td>2010-01-22</td>\n",
       "      <td>1514.30</td>\n",
       "      <td>-0.016401</td>\n",
       "    </tr>\n",
       "    <tr>\n",
       "      <th>15</th>\n",
       "      <td>2010-01-25</td>\n",
       "      <td>1532.05</td>\n",
       "      <td>0.011722</td>\n",
       "    </tr>\n",
       "    <tr>\n",
       "      <th>16</th>\n",
       "      <td>2010-01-27</td>\n",
       "      <td>1523.40</td>\n",
       "      <td>-0.005646</td>\n",
       "    </tr>\n",
       "    <tr>\n",
       "      <th>17</th>\n",
       "      <td>2010-01-28</td>\n",
       "      <td>1526.00</td>\n",
       "      <td>0.001707</td>\n",
       "    </tr>\n",
       "    <tr>\n",
       "      <th>18</th>\n",
       "      <td>2010-01-29</td>\n",
       "      <td>1520.45</td>\n",
       "      <td>-0.003637</td>\n",
       "    </tr>\n",
       "    <tr>\n",
       "      <th>19</th>\n",
       "      <td>2010-02-01</td>\n",
       "      <td>1540.75</td>\n",
       "      <td>0.013351</td>\n",
       "    </tr>\n",
       "    <tr>\n",
       "      <th>20</th>\n",
       "      <td>2010-02-02</td>\n",
       "      <td>1540.15</td>\n",
       "      <td>-0.000389</td>\n",
       "    </tr>\n",
       "  </tbody>\n",
       "</table>\n",
       "</div>"
      ],
      "text/plain": [
       "         Date    Close      Gain\n",
       "1  2010-01-05  1616.80 -0.005444\n",
       "2  2010-01-06  1638.50  0.013422\n",
       "3  2010-01-07  1648.70  0.006225\n",
       "4  2010-01-08  1639.80 -0.005398\n",
       "5  2010-01-11  1629.45 -0.006312\n",
       "6  2010-01-12  1583.85 -0.027985\n",
       "7  2010-01-13  1571.30 -0.007924\n",
       "8  2010-01-14  1573.55  0.001432\n",
       "9  2010-01-15  1570.40 -0.002002\n",
       "10 2010-01-18  1562.50 -0.005031\n",
       "11 2010-01-19  1559.95 -0.001632\n",
       "12 2010-01-20  1563.45  0.002244\n",
       "13 2010-01-21  1539.55 -0.015287\n",
       "14 2010-01-22  1514.30 -0.016401\n",
       "15 2010-01-25  1532.05  0.011722\n",
       "16 2010-01-27  1523.40 -0.005646\n",
       "17 2010-01-28  1526.00  0.001707\n",
       "18 2010-01-29  1520.45 -0.003637\n",
       "19 2010-02-01  1540.75  0.013351\n",
       "20 2010-02-02  1540.15 -0.000389"
      ]
     },
     "execution_count": 64,
     "metadata": {},
     "output_type": "execute_result"
    }
   ],
   "source": [
    "glaxo_data_daily_trade.head(20)"
   ]
  },
  {
   "cell_type": "code",
   "execution_count": 65,
   "id": "7779b50c",
   "metadata": {},
   "outputs": [
    {
     "data": {
      "text/plain": [
       "Date     datetime64[ns]\n",
       "Close           float64\n",
       "Gain            float64\n",
       "dtype: object"
      ]
     },
     "execution_count": 65,
     "metadata": {},
     "output_type": "execute_result"
    }
   ],
   "source": [
    "glaxo_data_daily_trade.dtypes"
   ]
  },
  {
   "cell_type": "code",
   "execution_count": 66,
   "id": "43197744",
   "metadata": {},
   "outputs": [
    {
     "data": {
      "text/plain": [
       "Text(0, 0.5, 'Gain')"
      ]
     },
     "execution_count": 66,
     "metadata": {},
     "output_type": "execute_result"
    },
    {
     "data": {
      "image/png": "[encoded data removed]",
      "text/plain": [
       "<Figure size 1080x432 with 1 Axes>"
      ]
     },
     "metadata": {
      "needs_background": "light"
     },
     "output_type": "display_data"
    }
   ],
   "source": [
    "plt.figure(figsize=(15,6))\n",
    "plt.plot(glaxo_data_daily_trade.Date,glaxo_data_daily_trade.Gain)\n",
    "plt.title(\"GLAXO Gain\",size=30)\n",
    "plt.xlabel('Time',size=15)\n",
    "plt.ylabel('Gain',size=15)"
   ]
  },
  {
   "cell_type": "code",
   "execution_count": 67,
   "id": "8b3164ae",
   "metadata": {},
   "outputs": [
    {
     "data": {
      "text/plain": [
       "Text(0, 0.5, 'Gain')"
      ]
     },
     "execution_count": 67,
     "metadata": {},
     "output_type": "execute_result"
    },
    {
     "data": {
      "image/png": "[encoded data removed]",
      "text/plain": [
       "<Figure size 1080x432 with 1 Axes>"
      ]
     },
     "metadata": {
      "needs_background": "light"
     },
     "output_type": "display_data"
    }
   ],
   "source": [
    "plt.figure(figsize=(15,6))\n",
    "plt.plot(beml_data_daily_trade.Date,beml_data_daily_trade.Gain)\n",
    "plt.title(\"BEML Gain\",size=30)\n",
    "plt.xlabel('Time',size=15)\n",
    "plt.ylabel('Gain',size=15)"
   ]
  },
  {
   "cell_type": "code",
   "execution_count": 73,
   "id": "237df7cf",
   "metadata": {},
   "outputs": [
    {
     "data": {
      "text/plain": [
       "<seaborn.axisgrid.FacetGrid at 0x2825b1e16d0>"
      ]
     },
     "execution_count": 73,
     "metadata": {},
     "output_type": "execute_result"
    },
    {
     "data": {
      "image/png": "[encoded data removed]",
      "text/plain": [
       "<Figure size 360x360 with 1 Axes>"
      ]
     },
     "metadata": {
      "needs_background": "light"
     },
     "output_type": "display_data"
    }
   ],
   "source": [
    "import seaborn as sns\n",
    "sns.displot(beml_data_daily_trade,x='Gain')"
   ]
  },
  {
   "cell_type": "code",
   "execution_count": 74,
   "id": "e817a587",
   "metadata": {},
   "outputs": [
    {
     "data": {
      "text/plain": [
       "<seaborn.axisgrid.FacetGrid at 0x2825b25f100>"
      ]
     },
     "execution_count": 74,
     "metadata": {},
     "output_type": "execute_result"
    },
    {
     "data": {
      "image/png": "[encoded data removed]",
      "text/plain": [
       "<Figure size 360x360 with 1 Axes>"
      ]
     },
     "metadata": {
      "needs_background": "light"
     },
     "output_type": "display_data"
    }
   ],
   "source": [
    "sns.displot(glaxo_data_daily_trade,x='Gain')"
   ]
  },
  {
   "cell_type": "code",
   "execution_count": 89,
   "id": "28e05fa3",
   "metadata": {},
   "outputs": [
    {
     "name": "stdout",
     "output_type": "stream",
     "text": [
      "Mean of GLAXO: 0.0004\n",
      "STD of GLAXO: 0.0134\n"
     ]
    }
   ],
   "source": [
    "print(\"Mean of GLAXO:\",round(glaxo_data_daily_trade.Gain.mean(),4))\n",
    "print(\"STD of GLAXO:\",round(glaxo_data_daily_trade.Gain.std(),4))"
   ]
  },
  {
   "cell_type": "code",
   "execution_count": 87,
   "id": "8e229dad",
   "metadata": {},
   "outputs": [
    {
     "name": "stdout",
     "output_type": "stream",
     "text": [
      "Mean of BEML: 0.0003\n",
      "STD of BEML: 0.0264\n"
     ]
    }
   ],
   "source": [
    "print(\"Mean of BEML:\",round(beml_data_daily_trade.Gain.mean(),4))\n",
    "print(\"STD of BEML:\",round(beml_data_daily_trade.Gain.std(),4))"
   ]
  },
  {
   "cell_type": "code",
   "execution_count": 100,
   "id": "01911b74",
   "metadata": {},
   "outputs": [
    {
     "data": {
      "text/plain": [
       "0.06395593743937553"
      ]
     },
     "execution_count": 100,
     "metadata": {},
     "output_type": "execute_result"
    }
   ],
   "source": [
    "#Probability of making 2% Loss or Higher in GLaxo\n",
    "stats.norm.cdf(x=-.02,loc=0.0004,scale=0.0134)\n",
    "#There will be 6% chance what you will lose 2% of your money"
   ]
  },
  {
   "cell_type": "code",
   "execution_count": 101,
   "id": "73642ce0",
   "metadata": {},
   "outputs": [
    {
     "data": {
      "text/plain": [
       "0.22096464496279805"
      ]
     },
     "execution_count": 101,
     "metadata": {},
     "output_type": "execute_result"
    }
   ],
   "source": [
    "#Probability of making 2% Loss or Higher in BEML\n",
    "stats.norm.cdf(x=-0.02,loc=0.0003,scale=0.0264)\n",
    "#There will be 22% chance what you will lose 2% of your money"
   ]
  },
  {
   "cell_type": "code",
   "execution_count": 104,
   "id": "79af4848",
   "metadata": {},
   "outputs": [
    {
     "data": {
      "text/plain": [
       "0.07177658173190637"
      ]
     },
     "execution_count": 104,
     "metadata": {},
     "output_type": "execute_result"
    }
   ],
   "source": [
    "#Probability of making 2% Gain or Higher in GLaxo\n",
    "1-stats.norm.cdf(x=0.02,loc=0.0004,scale=0.0134)\n",
    "#There will be 71% chance what you will Gain 2% of your money\n",
    "#(1-) because cdf gives area under curve under left side"
   ]
  },
  {
   "cell_type": "code",
   "execution_count": 107,
   "id": "7174be6e",
   "metadata": {},
   "outputs": [
    {
     "data": {
      "text/plain": [
       "0.2277696435431158"
      ]
     },
     "execution_count": 107,
     "metadata": {},
     "output_type": "execute_result"
    }
   ],
   "source": [
    "#Probability of making 2% Gain or Higher in BEML\n",
    "1-stats.norm.cdf(x=0.02,loc=0.0003,scale=0.0264)\n",
    "#There will be 23% chance what you will gain 2% of your money"
   ]
  }
 ],
 "metadata": {
  "kernelspec": {
   "display_name": "Python 3",
   "language": "python",
   "name": "python3"
  },
  "language_info": {
   "codemirror_mode": {
    "name": "ipython",
    "version": 3
   },
   "file_extension": ".py",
   "mimetype": "text/x-python",
   "name": "python",
   "nbconvert_exporter": "python",
   "pygments_lexer": "ipython3",
   "version": "3.8.8"
  }
 },
 "nbformat": 4,
 "nbformat_minor": 5
}
